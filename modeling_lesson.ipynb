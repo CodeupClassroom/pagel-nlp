{
 "cells": [
  {
   "cell_type": "markdown",
   "id": "840086b8",
   "metadata": {},
   "source": [
    "# NLP Modeling (text classification)\n",
    "\n",
    "What is it?\n",
    "- the process of categorizing text into organized groups\n",
    "\n",
    "Why do we care? \n",
    "- allows us to use machine learning to label text"
   ]
  },
  {
   "cell_type": "markdown",
   "id": "712bd79d",
   "metadata": {},
   "source": [
    "### Vocabulary\n",
    "\n",
    "**Bag of Words (BoW)**: extracting features from text for use in modeling\n",
    "- A bag-of-words is a representation of text that describes the occurrence of words within a document. It involves two things:\n",
    "    - A vocabulary of known words.\n",
    "    - A measure of the presence of known words.\n",
    "- It is called a “bag” of words, because any information about the order or structure of words in the document is discarded. The model is only concerned with whether known words occur in the document, not where in the document.\n",
    "\n",
    "\n",
    "**Term Frequency (TF)**: how often a word appears\n",
    "\n",
    "- **Raw Count**: This is simply the count of the number of occurances of each word.\n",
    "\n",
    "- **Frequency**: The number of times each word appears divided by the total number of words.\n",
    "\n",
    "- **Augmented Frequency**: The frequency of each word divided by the maximum frequency. This can help prevent bias towards larger documents.\n",
    "\n",
    "\n",
    "**Sparse Matrix**: A matrix in which the number of zero elements is much higher than the number of non-zero elements. As a rule of thumb, if 2/3 of the total elements in a matrix are zeros, it can be called a sparse matrix.\n",
    "\n",
    "**Feature Extraction (TF-IDF)**\n",
    "\n",
    "- **TF**: Term Frequency; how often a word appears in a document.\n",
    "\n",
    "- **IDF**: Inverse Document Frequency; a measure based on in how many documents will a word appear.\n",
    "\n",
    "- **TF-IDF**: A combination of the two measures above.\n",
    "\n",
    "\n",
    "## Setup"
   ]
  },
  {
   "cell_type": "code",
   "execution_count": 1,
   "id": "57122df3",
   "metadata": {},
   "outputs": [],
   "source": [
    "#wrangle the data\n",
    "import pandas as pd\n",
    "import numpy as np\n",
    "\n",
    "#see the data\n",
    "import matplotlib.pyplot as plt\n",
    "from wordcloud import WordCloud\n",
    "\n",
    "#play with words\n",
    "import nltk\n",
    "import re\n",
    "from pprint import pprint\n",
    "\n",
    "#split and model\n",
    "from sklearn.model_selection import train_test_split\n",
    "from sklearn.tree import DecisionTreeClassifier\n",
    "\n",
    "#sql creds\n",
    "import env"
   ]
  },
  {
   "cell_type": "code",
   "execution_count": 2,
   "id": "77207323",
   "metadata": {},
   "outputs": [],
   "source": [
    "def clean(text: str) -> list: #expects the input to be a string and the output to be a list\n",
    "    \"\"\"A simple function to cleanup text data\"\"\"\n",
    "    \n",
    "    #remove non-ascii characters & lower\n",
    "    text = (text.encode('ascii', 'ignore')\n",
    "                .decode('utf-8', 'ignore')\n",
    "                .lower())\n",
    "    \n",
    "    #remove special characters\n",
    "    words = re.sub(r'[^\\w\\s]', '', text).split()\n",
    "    \n",
    "    #build the lemmatizer\n",
    "    wnl = nltk.stem.WordNetLemmatizer()\n",
    "    \n",
    "    #getting all stopwords\n",
    "    stopwords = set(nltk.corpus.stopwords.words('english'))\n",
    "    \n",
    "    return [wnl.lemmatize(word) for word in words if word not in stopwords]"
   ]
  },
  {
   "cell_type": "markdown",
   "id": "05d09b64",
   "metadata": {},
   "source": [
    "## Data Representation\n",
    "\n",
    "Simple data for demonstration."
   ]
  },
  {
   "cell_type": "code",
   "execution_count": 3,
   "id": "c0b4c644",
   "metadata": {},
   "outputs": [],
   "source": [
    "corpus = [\n",
    "    'Python is pretty cool',\n",
    "    'Python is a nice programming language with nice syntax',\n",
    "    'I think SQL is cool too',\n",
    "]"
   ]
  },
  {
   "cell_type": "code",
   "execution_count": 4,
   "id": "c5f6aacc-9184-491f-903f-0c499eb9aa7b",
   "metadata": {},
   "outputs": [
    {
     "data": {
      "text/plain": [
       "['Python is pretty cool',\n",
       " 'Python is a nice programming language with nice syntax',\n",
       " 'I think SQL is cool too']"
      ]
     },
     "execution_count": 4,
     "metadata": {},
     "output_type": "execute_result"
    }
   ],
   "source": [
    "corpus"
   ]
  },
  {
   "cell_type": "markdown",
   "id": "76fdb030",
   "metadata": {},
   "source": [
    "### Term Frequency"
   ]
  },
  {
   "cell_type": "markdown",
   "id": "8b9f6cb6",
   "metadata": {},
   "source": [
    "Get a count of all the words in the corpus. Then get counts of how many times each word appears in a document."
   ]
  },
  {
   "cell_type": "markdown",
   "id": "29c3e0f9",
   "metadata": {},
   "source": [
    "Use `sklearn.feature_extraction.text.CountVectorizer`\n",
    "\n",
    "1. make the thing!\n",
    "2. fit the thing!\n",
    "3. use the thing!\n",
    "\n",
    "Attributes of note\n",
    "- `.todense`\n",
    "- `.get_feature_names_out`"
   ]
  },
  {
   "cell_type": "code",
   "execution_count": 5,
   "id": "c584b15f",
   "metadata": {},
   "outputs": [],
   "source": [
    "#import \n",
    "from sklearn.feature_extraction.text import CountVectorizer"
   ]
  },
  {
   "cell_type": "code",
   "execution_count": 6,
   "id": "c5d4b951",
   "metadata": {},
   "outputs": [],
   "source": [
    "# make the thing\n",
    "cv = CountVectorizer()\n",
    "\n",
    "# fit the thing\n",
    "# use the thing\n",
    "bag_of_words = cv.fit_transform(corpus)"
   ]
  },
  {
   "cell_type": "code",
   "execution_count": 7,
   "id": "3c180146",
   "metadata": {},
   "outputs": [
    {
     "data": {
      "text/plain": [
       "<3x12 sparse matrix of type '<class 'numpy.int64'>'\n",
       "\twith 16 stored elements in Compressed Sparse Row format>"
      ]
     },
     "execution_count": 7,
     "metadata": {},
     "output_type": "execute_result"
    }
   ],
   "source": [
    "bag_of_words"
   ]
  },
  {
   "cell_type": "code",
   "execution_count": 9,
   "id": "9c2721c0-901a-4639-8081-c7a76ff48bce",
   "metadata": {},
   "outputs": [
    {
     "data": {
      "text/plain": [
       "matrix([[1, 1, 0, 0, 1, 0, 1, 0, 0, 0, 0, 0],\n",
       "        [0, 1, 1, 2, 0, 1, 1, 0, 1, 0, 0, 1],\n",
       "        [1, 1, 0, 0, 0, 0, 0, 1, 0, 1, 1, 0]])"
      ]
     },
     "execution_count": 9,
     "metadata": {},
     "output_type": "execute_result"
    }
   ],
   "source": [
    "#todense\n",
    "bag_of_words.todense()"
   ]
  },
  {
   "cell_type": "markdown",
   "id": "d8f97319",
   "metadata": {},
   "source": [
    "Here `bag_of_words` is a **sparse matrix**. Usually you should keep it as such,\n",
    "but for demonstration we'll view the data within."
   ]
  },
  {
   "cell_type": "code",
   "execution_count": 10,
   "id": "2697d1e2",
   "metadata": {},
   "outputs": [
    {
     "data": {
      "text/plain": [
       "array(['cool', 'is', 'language', 'nice', 'pretty', 'programming',\n",
       "       'python', 'sql', 'syntax', 'think', 'too', 'with'], dtype=object)"
      ]
     },
     "execution_count": 10,
     "metadata": {},
     "output_type": "execute_result"
    }
   ],
   "source": [
    "cv.get_feature_names_out()"
   ]
  },
  {
   "cell_type": "code",
   "execution_count": 11,
   "id": "863445e0",
   "metadata": {},
   "outputs": [
    {
     "data": {
      "text/plain": [
       "['Python is pretty cool',\n",
       " 'Python is a nice programming language with nice syntax',\n",
       " 'I think SQL is cool too']"
      ]
     },
     "execution_count": 11,
     "metadata": {},
     "output_type": "execute_result"
    }
   ],
   "source": [
    "corpus"
   ]
  },
  {
   "cell_type": "code",
   "execution_count": 16,
   "id": "290cc53c",
   "metadata": {},
   "outputs": [],
   "source": [
    "# Taking a look at the bag of words transformation for education and diagnostics.\n",
    "# In practice this is not necesssary and the resulting data might be to big to be reasonably helpful.\n",
    "bow = pd.DataFrame(bag_of_words.todense(), \n",
    "             columns=cv.get_feature_names_out())"
   ]
  },
  {
   "cell_type": "code",
   "execution_count": 17,
   "id": "988bd3c0",
   "metadata": {},
   "outputs": [
    {
     "data": {
      "text/plain": [
       "['Python is pretty cool',\n",
       " 'Python is a nice programming language with nice syntax',\n",
       " 'I think SQL is cool too']"
      ]
     },
     "execution_count": 17,
     "metadata": {},
     "output_type": "execute_result"
    }
   ],
   "source": [
    "corpus"
   ]
  },
  {
   "cell_type": "code",
   "execution_count": 18,
   "id": "6f8425d9-61a0-4e2f-9b60-03668ae00266",
   "metadata": {},
   "outputs": [
    {
     "data": {
      "text/html": [
       "<div>\n",
       "<style scoped>\n",
       "    .dataframe tbody tr th:only-of-type {\n",
       "        vertical-align: middle;\n",
       "    }\n",
       "\n",
       "    .dataframe tbody tr th {\n",
       "        vertical-align: top;\n",
       "    }\n",
       "\n",
       "    .dataframe thead th {\n",
       "        text-align: right;\n",
       "    }\n",
       "</style>\n",
       "<table border=\"1\" class=\"dataframe\">\n",
       "  <thead>\n",
       "    <tr style=\"text-align: right;\">\n",
       "      <th></th>\n",
       "      <th>cool</th>\n",
       "      <th>is</th>\n",
       "      <th>language</th>\n",
       "      <th>nice</th>\n",
       "      <th>pretty</th>\n",
       "      <th>programming</th>\n",
       "      <th>python</th>\n",
       "      <th>sql</th>\n",
       "      <th>syntax</th>\n",
       "      <th>think</th>\n",
       "      <th>too</th>\n",
       "      <th>with</th>\n",
       "    </tr>\n",
       "  </thead>\n",
       "  <tbody>\n",
       "    <tr>\n",
       "      <th>0</th>\n",
       "      <td>1</td>\n",
       "      <td>1</td>\n",
       "      <td>0</td>\n",
       "      <td>0</td>\n",
       "      <td>1</td>\n",
       "      <td>0</td>\n",
       "      <td>1</td>\n",
       "      <td>0</td>\n",
       "      <td>0</td>\n",
       "      <td>0</td>\n",
       "      <td>0</td>\n",
       "      <td>0</td>\n",
       "    </tr>\n",
       "    <tr>\n",
       "      <th>1</th>\n",
       "      <td>0</td>\n",
       "      <td>1</td>\n",
       "      <td>1</td>\n",
       "      <td>2</td>\n",
       "      <td>0</td>\n",
       "      <td>1</td>\n",
       "      <td>1</td>\n",
       "      <td>0</td>\n",
       "      <td>1</td>\n",
       "      <td>0</td>\n",
       "      <td>0</td>\n",
       "      <td>1</td>\n",
       "    </tr>\n",
       "    <tr>\n",
       "      <th>2</th>\n",
       "      <td>1</td>\n",
       "      <td>1</td>\n",
       "      <td>0</td>\n",
       "      <td>0</td>\n",
       "      <td>0</td>\n",
       "      <td>0</td>\n",
       "      <td>0</td>\n",
       "      <td>1</td>\n",
       "      <td>0</td>\n",
       "      <td>1</td>\n",
       "      <td>1</td>\n",
       "      <td>0</td>\n",
       "    </tr>\n",
       "  </tbody>\n",
       "</table>\n",
       "</div>"
      ],
      "text/plain": [
       "   cool  is  language  nice  pretty  programming  python  sql  syntax  think  \\\n",
       "0     1   1         0     0       1            0       1    0       0      0   \n",
       "1     0   1         1     2       0            1       1    0       1      0   \n",
       "2     1   1         0     0       0            0       0    1       0      1   \n",
       "\n",
       "   too  with  \n",
       "0    0     0  \n",
       "1    0     1  \n",
       "2    1     0  "
      ]
     },
     "execution_count": 18,
     "metadata": {},
     "output_type": "execute_result"
    }
   ],
   "source": [
    "# Raw Counts\n",
    "bow"
   ]
  },
  {
   "cell_type": "code",
   "execution_count": 23,
   "id": "d2f6ec62",
   "metadata": {},
   "outputs": [
    {
     "data": {
      "text/plain": [
       "['Python is pretty cool',\n",
       " 'Python is a nice programming language with nice syntax',\n",
       " 'I think SQL is cool too']"
      ]
     },
     "execution_count": 23,
     "metadata": {},
     "output_type": "execute_result"
    }
   ],
   "source": [
    "corpus"
   ]
  },
  {
   "cell_type": "code",
   "execution_count": 22,
   "id": "8cec51f4-37f4-44e9-81a2-46784fa6ab98",
   "metadata": {},
   "outputs": [
    {
     "data": {
      "text/html": [
       "<div>\n",
       "<style scoped>\n",
       "    .dataframe tbody tr th:only-of-type {\n",
       "        vertical-align: middle;\n",
       "    }\n",
       "\n",
       "    .dataframe tbody tr th {\n",
       "        vertical-align: top;\n",
       "    }\n",
       "\n",
       "    .dataframe thead th {\n",
       "        text-align: right;\n",
       "    }\n",
       "</style>\n",
       "<table border=\"1\" class=\"dataframe\">\n",
       "  <thead>\n",
       "    <tr style=\"text-align: right;\">\n",
       "      <th></th>\n",
       "      <th>cool</th>\n",
       "      <th>is</th>\n",
       "      <th>language</th>\n",
       "      <th>nice</th>\n",
       "      <th>pretty</th>\n",
       "      <th>programming</th>\n",
       "      <th>python</th>\n",
       "      <th>sql</th>\n",
       "      <th>syntax</th>\n",
       "      <th>think</th>\n",
       "      <th>too</th>\n",
       "      <th>with</th>\n",
       "    </tr>\n",
       "  </thead>\n",
       "  <tbody>\n",
       "    <tr>\n",
       "      <th>0</th>\n",
       "      <td>0.25</td>\n",
       "      <td>0.250</td>\n",
       "      <td>0.000</td>\n",
       "      <td>0.00</td>\n",
       "      <td>0.25</td>\n",
       "      <td>0.000</td>\n",
       "      <td>0.250</td>\n",
       "      <td>0.0</td>\n",
       "      <td>0.000</td>\n",
       "      <td>0.0</td>\n",
       "      <td>0.0</td>\n",
       "      <td>0.000</td>\n",
       "    </tr>\n",
       "    <tr>\n",
       "      <th>1</th>\n",
       "      <td>0.00</td>\n",
       "      <td>0.125</td>\n",
       "      <td>0.125</td>\n",
       "      <td>0.25</td>\n",
       "      <td>0.00</td>\n",
       "      <td>0.125</td>\n",
       "      <td>0.125</td>\n",
       "      <td>0.0</td>\n",
       "      <td>0.125</td>\n",
       "      <td>0.0</td>\n",
       "      <td>0.0</td>\n",
       "      <td>0.125</td>\n",
       "    </tr>\n",
       "    <tr>\n",
       "      <th>2</th>\n",
       "      <td>0.20</td>\n",
       "      <td>0.200</td>\n",
       "      <td>0.000</td>\n",
       "      <td>0.00</td>\n",
       "      <td>0.00</td>\n",
       "      <td>0.000</td>\n",
       "      <td>0.000</td>\n",
       "      <td>0.2</td>\n",
       "      <td>0.000</td>\n",
       "      <td>0.2</td>\n",
       "      <td>0.2</td>\n",
       "      <td>0.000</td>\n",
       "    </tr>\n",
       "  </tbody>\n",
       "</table>\n",
       "</div>"
      ],
      "text/plain": [
       "   cool     is  language  nice  pretty  programming  python  sql  syntax  \\\n",
       "0  0.25  0.250     0.000  0.00    0.25        0.000   0.250  0.0   0.000   \n",
       "1  0.00  0.125     0.125  0.25    0.00        0.125   0.125  0.0   0.125   \n",
       "2  0.20  0.200     0.000  0.00    0.00        0.000   0.000  0.2   0.000   \n",
       "\n",
       "   think  too   with  \n",
       "0    0.0  0.0  0.000  \n",
       "1    0.0  0.0  0.125  \n",
       "2    0.2  0.2  0.000  "
      ]
     },
     "execution_count": 22,
     "metadata": {},
     "output_type": "execute_result"
    }
   ],
   "source": [
    "# Frequency\n",
    "bow.apply(lambda row: row/ row.sum() , axis=1)"
   ]
  },
  {
   "cell_type": "code",
   "execution_count": 25,
   "id": "291e71bf",
   "metadata": {},
   "outputs": [
    {
     "data": {
      "text/plain": [
       "['Python is pretty cool',\n",
       " 'Python is a nice programming language with nice syntax',\n",
       " 'I think SQL is cool too']"
      ]
     },
     "execution_count": 25,
     "metadata": {},
     "output_type": "execute_result"
    }
   ],
   "source": [
    "corpus"
   ]
  },
  {
   "cell_type": "code",
   "execution_count": 26,
   "id": "d3a82050",
   "metadata": {},
   "outputs": [
    {
     "data": {
      "text/html": [
       "<div>\n",
       "<style scoped>\n",
       "    .dataframe tbody tr th:only-of-type {\n",
       "        vertical-align: middle;\n",
       "    }\n",
       "\n",
       "    .dataframe tbody tr th {\n",
       "        vertical-align: top;\n",
       "    }\n",
       "\n",
       "    .dataframe thead th {\n",
       "        text-align: right;\n",
       "    }\n",
       "</style>\n",
       "<table border=\"1\" class=\"dataframe\">\n",
       "  <thead>\n",
       "    <tr style=\"text-align: right;\">\n",
       "      <th></th>\n",
       "      <th>cool</th>\n",
       "      <th>is</th>\n",
       "      <th>language</th>\n",
       "      <th>nice</th>\n",
       "      <th>pretty</th>\n",
       "      <th>programming</th>\n",
       "      <th>python</th>\n",
       "      <th>sql</th>\n",
       "      <th>syntax</th>\n",
       "      <th>think</th>\n",
       "      <th>too</th>\n",
       "      <th>with</th>\n",
       "    </tr>\n",
       "  </thead>\n",
       "  <tbody>\n",
       "    <tr>\n",
       "      <th>0</th>\n",
       "      <td>1.0</td>\n",
       "      <td>1.0</td>\n",
       "      <td>0.0</td>\n",
       "      <td>0.0</td>\n",
       "      <td>1.0</td>\n",
       "      <td>0.0</td>\n",
       "      <td>1.0</td>\n",
       "      <td>0.0</td>\n",
       "      <td>0.0</td>\n",
       "      <td>0.0</td>\n",
       "      <td>0.0</td>\n",
       "      <td>0.0</td>\n",
       "    </tr>\n",
       "    <tr>\n",
       "      <th>1</th>\n",
       "      <td>0.0</td>\n",
       "      <td>0.5</td>\n",
       "      <td>0.5</td>\n",
       "      <td>1.0</td>\n",
       "      <td>0.0</td>\n",
       "      <td>0.5</td>\n",
       "      <td>0.5</td>\n",
       "      <td>0.0</td>\n",
       "      <td>0.5</td>\n",
       "      <td>0.0</td>\n",
       "      <td>0.0</td>\n",
       "      <td>0.5</td>\n",
       "    </tr>\n",
       "    <tr>\n",
       "      <th>2</th>\n",
       "      <td>1.0</td>\n",
       "      <td>1.0</td>\n",
       "      <td>0.0</td>\n",
       "      <td>0.0</td>\n",
       "      <td>0.0</td>\n",
       "      <td>0.0</td>\n",
       "      <td>0.0</td>\n",
       "      <td>1.0</td>\n",
       "      <td>0.0</td>\n",
       "      <td>1.0</td>\n",
       "      <td>1.0</td>\n",
       "      <td>0.0</td>\n",
       "    </tr>\n",
       "  </tbody>\n",
       "</table>\n",
       "</div>"
      ],
      "text/plain": [
       "   cool   is  language  nice  pretty  programming  python  sql  syntax  think  \\\n",
       "0   1.0  1.0       0.0   0.0     1.0          0.0     1.0  0.0     0.0    0.0   \n",
       "1   0.0  0.5       0.5   1.0     0.0          0.5     0.5  0.0     0.5    0.0   \n",
       "2   1.0  1.0       0.0   0.0     0.0          0.0     0.0  1.0     0.0    1.0   \n",
       "\n",
       "   too  with  \n",
       "0  0.0   0.0  \n",
       "1  0.0   0.5  \n",
       "2  1.0   0.0  "
      ]
     },
     "execution_count": 26,
     "metadata": {},
     "output_type": "execute_result"
    }
   ],
   "source": [
    "# Augmented Frequency\n",
    "bow.apply(lambda row: (row/ row.sum()) / (row/ row.sum()).max() , axis=1)"
   ]
  },
  {
   "cell_type": "markdown",
   "id": "83633f72",
   "metadata": {},
   "source": [
    "### TF-IDF (term frequency - inverse document frequency)\n",
    "\n",
    "- a measure that helps identify how important a word is in a document\n",
    "- tf is for a single document, idf is for a corpus\n",
    "- combination of how often a word appears in a document (**tf**) and how unique the word\n",
    "  is among documents (**idf**)"
   ]
  },
  {
   "cell_type": "markdown",
   "id": "9c6157fb",
   "metadata": {},
   "source": [
    "#### IDF"
   ]
  },
  {
   "cell_type": "markdown",
   "id": "cdccca49",
   "metadata": {},
   "source": [
    "For example, imagine we have 20 documents. We can visualize what the idf score looks like with the code below:"
   ]
  },
  {
   "cell_type": "code",
   "execution_count": 27,
   "id": "acae8ce1",
   "metadata": {},
   "outputs": [
    {
     "data": {
      "text/plain": [
       "Text(0.5, 1.0, 'IDF for a given word')"
      ]
     },
     "execution_count": 27,
     "metadata": {},
     "output_type": "execute_result"
    },
    {
     "data": {
      "image/png": "[encoded data removed]",
      "text/plain": [
       "<Figure size 640x480 with 1 Axes>"
      ]
     },
     "metadata": {},
     "output_type": "display_data"
    }
   ],
   "source": [
    "n_documents = 20\n",
    "\n",
    "x = np.arange(1, n_documents + 1)\n",
    "y = np.log(n_documents / x)\n",
    "\n",
    "plt.plot(x, y, marker='.')\n",
    "\n",
    "plt.xticks(x)\n",
    "plt.xlabel('# of Documents the word appears in')\n",
    "plt.ylabel('IDF')\n",
    "plt.title('IDF for a given word')"
   ]
  },
  {
   "cell_type": "markdown",
   "id": "3d067a64",
   "metadata": {},
   "source": [
    "#### TF-IDF"
   ]
  },
  {
   "cell_type": "markdown",
   "id": "e929f4ac",
   "metadata": {},
   "source": [
    "Use `sklearn.feature_extraction.text.TfidfVectorizer`\n",
    "1. make the thing! \n",
    "2. fit the thing!\n",
    "3. use the thing! "
   ]
  },
  {
   "cell_type": "code",
   "execution_count": 30,
   "id": "8b0f5000",
   "metadata": {},
   "outputs": [],
   "source": [
    "#import\n",
    "from sklearn.feature_extraction.text import TfidfVectorizer"
   ]
  },
  {
   "cell_type": "code",
   "execution_count": 31,
   "id": "6a6f17db",
   "metadata": {},
   "outputs": [],
   "source": [
    "#make it\n",
    "tfidf = TfidfVectorizer()\n",
    "\n",
    "#fit it/use it\n",
    "bag_of_words = tfidf.fit_transform(corpus)"
   ]
  },
  {
   "cell_type": "code",
   "execution_count": 32,
   "id": "d6fa12b7",
   "metadata": {},
   "outputs": [
    {
     "data": {
      "text/plain": [
       "<3x12 sparse matrix of type '<class 'numpy.float64'>'\n",
       "\twith 16 stored elements in Compressed Sparse Row format>"
      ]
     },
     "execution_count": 32,
     "metadata": {},
     "output_type": "execute_result"
    }
   ],
   "source": [
    "bag_of_words"
   ]
  },
  {
   "cell_type": "code",
   "execution_count": 33,
   "id": "3d042faf",
   "metadata": {},
   "outputs": [
    {
     "data": {
      "text/plain": [
       "matrix([[0.4804584 , 0.37311881, 0.        , 0.        , 0.63174505,\n",
       "         0.        , 0.4804584 , 0.        , 0.        , 0.        ,\n",
       "         0.        , 0.        ],\n",
       "        [0.        , 0.19767284, 0.33468921, 0.66937843, 0.        ,\n",
       "         0.33468921, 0.25453977, 0.        , 0.33468921, 0.        ,\n",
       "         0.        , 0.33468921],\n",
       "        [0.38376993, 0.29803159, 0.        , 0.        , 0.        ,\n",
       "         0.        , 0.        , 0.50461134, 0.        , 0.50461134,\n",
       "         0.50461134, 0.        ]])"
      ]
     },
     "execution_count": 33,
     "metadata": {},
     "output_type": "execute_result"
    }
   ],
   "source": [
    "bag_of_words.todense()"
   ]
  },
  {
   "cell_type": "code",
   "execution_count": 35,
   "id": "6420da7c",
   "metadata": {},
   "outputs": [
    {
     "data": {
      "text/html": [
       "<div>\n",
       "<style scoped>\n",
       "    .dataframe tbody tr th:only-of-type {\n",
       "        vertical-align: middle;\n",
       "    }\n",
       "\n",
       "    .dataframe tbody tr th {\n",
       "        vertical-align: top;\n",
       "    }\n",
       "\n",
       "    .dataframe thead th {\n",
       "        text-align: right;\n",
       "    }\n",
       "</style>\n",
       "<table border=\"1\" class=\"dataframe\">\n",
       "  <thead>\n",
       "    <tr style=\"text-align: right;\">\n",
       "      <th></th>\n",
       "      <th>cool</th>\n",
       "      <th>is</th>\n",
       "      <th>language</th>\n",
       "      <th>nice</th>\n",
       "      <th>pretty</th>\n",
       "      <th>programming</th>\n",
       "      <th>python</th>\n",
       "      <th>sql</th>\n",
       "      <th>syntax</th>\n",
       "      <th>think</th>\n",
       "      <th>too</th>\n",
       "      <th>with</th>\n",
       "    </tr>\n",
       "  </thead>\n",
       "  <tbody>\n",
       "    <tr>\n",
       "      <th>0</th>\n",
       "      <td>0.480458</td>\n",
       "      <td>0.373119</td>\n",
       "      <td>0.000000</td>\n",
       "      <td>0.000000</td>\n",
       "      <td>0.631745</td>\n",
       "      <td>0.000000</td>\n",
       "      <td>0.480458</td>\n",
       "      <td>0.000000</td>\n",
       "      <td>0.000000</td>\n",
       "      <td>0.000000</td>\n",
       "      <td>0.000000</td>\n",
       "      <td>0.000000</td>\n",
       "    </tr>\n",
       "    <tr>\n",
       "      <th>1</th>\n",
       "      <td>0.000000</td>\n",
       "      <td>0.197673</td>\n",
       "      <td>0.334689</td>\n",
       "      <td>0.669378</td>\n",
       "      <td>0.000000</td>\n",
       "      <td>0.334689</td>\n",
       "      <td>0.254540</td>\n",
       "      <td>0.000000</td>\n",
       "      <td>0.334689</td>\n",
       "      <td>0.000000</td>\n",
       "      <td>0.000000</td>\n",
       "      <td>0.334689</td>\n",
       "    </tr>\n",
       "    <tr>\n",
       "      <th>2</th>\n",
       "      <td>0.383770</td>\n",
       "      <td>0.298032</td>\n",
       "      <td>0.000000</td>\n",
       "      <td>0.000000</td>\n",
       "      <td>0.000000</td>\n",
       "      <td>0.000000</td>\n",
       "      <td>0.000000</td>\n",
       "      <td>0.504611</td>\n",
       "      <td>0.000000</td>\n",
       "      <td>0.504611</td>\n",
       "      <td>0.504611</td>\n",
       "      <td>0.000000</td>\n",
       "    </tr>\n",
       "  </tbody>\n",
       "</table>\n",
       "</div>"
      ],
      "text/plain": [
       "       cool        is  language      nice    pretty  programming    python  \\\n",
       "0  0.480458  0.373119  0.000000  0.000000  0.631745     0.000000  0.480458   \n",
       "1  0.000000  0.197673  0.334689  0.669378  0.000000     0.334689  0.254540   \n",
       "2  0.383770  0.298032  0.000000  0.000000  0.000000     0.000000  0.000000   \n",
       "\n",
       "        sql    syntax     think       too      with  \n",
       "0  0.000000  0.000000  0.000000  0.000000  0.000000  \n",
       "1  0.000000  0.334689  0.000000  0.000000  0.334689  \n",
       "2  0.504611  0.000000  0.504611  0.504611  0.000000  "
      ]
     },
     "execution_count": 35,
     "metadata": {},
     "output_type": "execute_result"
    }
   ],
   "source": [
    "#dataframe it\n",
    "pd.DataFrame(bag_of_words.todense(), \n",
    "             columns=tfidf.get_feature_names_out())"
   ]
  },
  {
   "cell_type": "code",
   "execution_count": 36,
   "id": "e8c81fb0",
   "metadata": {},
   "outputs": [
    {
     "data": {
      "text/plain": [
       "['Python is pretty cool',\n",
       " 'Python is a nice programming language with nice syntax',\n",
       " 'I think SQL is cool too']"
      ]
     },
     "execution_count": 36,
     "metadata": {},
     "output_type": "execute_result"
    }
   ],
   "source": [
    "corpus"
   ]
  },
  {
   "cell_type": "markdown",
   "id": "f879a6e4",
   "metadata": {},
   "source": [
    "To get the idf score for each word (these aren't terribly useful themselves):"
   ]
  },
  {
   "cell_type": "code",
   "execution_count": 42,
   "id": "fc24fc1b",
   "metadata": {},
   "outputs": [
    {
     "data": {
      "text/plain": [
       "array([1.28768207, 1.        , 1.69314718, 1.69314718, 1.69314718,\n",
       "       1.69314718, 1.28768207, 1.69314718, 1.69314718, 1.69314718,\n",
       "       1.69314718, 1.69314718])"
      ]
     },
     "execution_count": 42,
     "metadata": {},
     "output_type": "execute_result"
    }
   ],
   "source": [
    "tfidf.idf_"
   ]
  },
  {
   "cell_type": "code",
   "execution_count": 41,
   "id": "e73321fc",
   "metadata": {},
   "outputs": [
    {
     "data": {
      "text/plain": [
       "is             1.000000\n",
       "cool           1.287682\n",
       "python         1.287682\n",
       "language       1.693147\n",
       "nice           1.693147\n",
       "pretty         1.693147\n",
       "programming    1.693147\n",
       "sql            1.693147\n",
       "syntax         1.693147\n",
       "think          1.693147\n",
       "too            1.693147\n",
       "with           1.693147\n",
       "dtype: float64"
      ]
     },
     "execution_count": 41,
     "metadata": {},
     "output_type": "execute_result"
    }
   ],
   "source": [
    "# zip: put these two things of the same length together\n",
    "# dict: turn those two associated things into a k: v pair\n",
    "# pd.Series: turn those keys into indices, and the values into values\n",
    "pd.Series(dict(zip(tfidf.get_feature_names_out(), tfidf.idf_))).sort_values()\n"
   ]
  },
  {
   "cell_type": "markdown",
   "id": "a26ba50b",
   "metadata": {},
   "source": [
    "### Bag Of Ngrams\n",
    "\n",
    "For either `CountVectorizer` or `TfidfVectorizer`, you can set the `ngram_range`\n",
    "parameter."
   ]
  },
  {
   "cell_type": "code",
   "execution_count": 43,
   "id": "0c878996",
   "metadata": {},
   "outputs": [
    {
     "data": {
      "text/plain": [
       "['Python is pretty cool',\n",
       " 'Python is a nice programming language with nice syntax',\n",
       " 'I think SQL is cool too']"
      ]
     },
     "execution_count": 43,
     "metadata": {},
     "output_type": "execute_result"
    }
   ],
   "source": [
    "corpus"
   ]
  },
  {
   "cell_type": "code",
   "execution_count": 49,
   "id": "f90e430d-9eb0-4293-9e85-f523c127e768",
   "metadata": {},
   "outputs": [],
   "source": [
    "#get two words at once!\n",
    "cv = CountVectorizer(ngram_range=(1,3))\n",
    "bag_of_grams = cv.fit_transform(corpus)"
   ]
  },
  {
   "cell_type": "code",
   "execution_count": 50,
   "id": "c31e94f7-d34b-460a-88e1-8b61680cc7c5",
   "metadata": {},
   "outputs": [
    {
     "data": {
      "text/html": [
       "<div>\n",
       "<style scoped>\n",
       "    .dataframe tbody tr th:only-of-type {\n",
       "        vertical-align: middle;\n",
       "    }\n",
       "\n",
       "    .dataframe tbody tr th {\n",
       "        vertical-align: top;\n",
       "    }\n",
       "\n",
       "    .dataframe thead th {\n",
       "        text-align: right;\n",
       "    }\n",
       "</style>\n",
       "<table border=\"1\" class=\"dataframe\">\n",
       "  <thead>\n",
       "    <tr style=\"text-align: right;\">\n",
       "      <th></th>\n",
       "      <th>cool</th>\n",
       "      <th>cool too</th>\n",
       "      <th>is</th>\n",
       "      <th>is cool</th>\n",
       "      <th>is cool too</th>\n",
       "      <th>is nice</th>\n",
       "      <th>is nice programming</th>\n",
       "      <th>is pretty</th>\n",
       "      <th>is pretty cool</th>\n",
       "      <th>language</th>\n",
       "      <th>...</th>\n",
       "      <th>sql is</th>\n",
       "      <th>sql is cool</th>\n",
       "      <th>syntax</th>\n",
       "      <th>think</th>\n",
       "      <th>think sql</th>\n",
       "      <th>think sql is</th>\n",
       "      <th>too</th>\n",
       "      <th>with</th>\n",
       "      <th>with nice</th>\n",
       "      <th>with nice syntax</th>\n",
       "    </tr>\n",
       "  </thead>\n",
       "  <tbody>\n",
       "    <tr>\n",
       "      <th>0</th>\n",
       "      <td>1</td>\n",
       "      <td>0</td>\n",
       "      <td>1</td>\n",
       "      <td>0</td>\n",
       "      <td>0</td>\n",
       "      <td>0</td>\n",
       "      <td>0</td>\n",
       "      <td>1</td>\n",
       "      <td>1</td>\n",
       "      <td>0</td>\n",
       "      <td>...</td>\n",
       "      <td>0</td>\n",
       "      <td>0</td>\n",
       "      <td>0</td>\n",
       "      <td>0</td>\n",
       "      <td>0</td>\n",
       "      <td>0</td>\n",
       "      <td>0</td>\n",
       "      <td>0</td>\n",
       "      <td>0</td>\n",
       "      <td>0</td>\n",
       "    </tr>\n",
       "    <tr>\n",
       "      <th>1</th>\n",
       "      <td>0</td>\n",
       "      <td>0</td>\n",
       "      <td>1</td>\n",
       "      <td>0</td>\n",
       "      <td>0</td>\n",
       "      <td>1</td>\n",
       "      <td>1</td>\n",
       "      <td>0</td>\n",
       "      <td>0</td>\n",
       "      <td>1</td>\n",
       "      <td>...</td>\n",
       "      <td>0</td>\n",
       "      <td>0</td>\n",
       "      <td>1</td>\n",
       "      <td>0</td>\n",
       "      <td>0</td>\n",
       "      <td>0</td>\n",
       "      <td>0</td>\n",
       "      <td>1</td>\n",
       "      <td>1</td>\n",
       "      <td>1</td>\n",
       "    </tr>\n",
       "    <tr>\n",
       "      <th>2</th>\n",
       "      <td>1</td>\n",
       "      <td>1</td>\n",
       "      <td>1</td>\n",
       "      <td>1</td>\n",
       "      <td>1</td>\n",
       "      <td>0</td>\n",
       "      <td>0</td>\n",
       "      <td>0</td>\n",
       "      <td>0</td>\n",
       "      <td>0</td>\n",
       "      <td>...</td>\n",
       "      <td>1</td>\n",
       "      <td>1</td>\n",
       "      <td>0</td>\n",
       "      <td>1</td>\n",
       "      <td>1</td>\n",
       "      <td>1</td>\n",
       "      <td>1</td>\n",
       "      <td>0</td>\n",
       "      <td>0</td>\n",
       "      <td>0</td>\n",
       "    </tr>\n",
       "  </tbody>\n",
       "</table>\n",
       "<p>3 rows × 36 columns</p>\n",
       "</div>"
      ],
      "text/plain": [
       "   cool  cool too  is  is cool  is cool too  is nice  is nice programming  \\\n",
       "0     1         0   1        0            0        0                    0   \n",
       "1     0         0   1        0            0        1                    1   \n",
       "2     1         1   1        1            1        0                    0   \n",
       "\n",
       "   is pretty  is pretty cool  language  ...  sql is  sql is cool  syntax  \\\n",
       "0          1               1         0  ...       0            0       0   \n",
       "1          0               0         1  ...       0            0       1   \n",
       "2          0               0         0  ...       1            1       0   \n",
       "\n",
       "   think  think sql  think sql is  too  with  with nice  with nice syntax  \n",
       "0      0          0             0    0     0          0                 0  \n",
       "1      0          0             0    0     1          1                 1  \n",
       "2      1          1             1    1     0          0                 0  \n",
       "\n",
       "[3 rows x 36 columns]"
      ]
     },
     "execution_count": 50,
     "metadata": {},
     "output_type": "execute_result"
    }
   ],
   "source": [
    "#dataframe it\n",
    "pd.DataFrame(bag_of_grams.todense(), columns=cv.get_feature_names_out())"
   ]
  },
  {
   "cell_type": "code",
   "execution_count": 46,
   "id": "b698f30f",
   "metadata": {},
   "outputs": [
    {
     "data": {
      "text/plain": [
       "['Python is pretty cool',\n",
       " 'Python is a nice programming language with nice syntax',\n",
       " 'I think SQL is cool too']"
      ]
     },
     "execution_count": 46,
     "metadata": {},
     "output_type": "execute_result"
    }
   ],
   "source": [
    "corpus"
   ]
  },
  {
   "cell_type": "markdown",
   "id": "12896c9b",
   "metadata": {},
   "source": [
    "## Modeling"
   ]
  },
  {
   "cell_type": "markdown",
   "id": "8ee03e2f",
   "metadata": {},
   "source": [
    "Use the ham spam data to walk through the pipeline! "
   ]
  },
  {
   "cell_type": "markdown",
   "id": "479c7a78",
   "metadata": {},
   "source": [
    "#### Aquire"
   ]
  },
  {
   "cell_type": "code",
   "execution_count": 52,
   "id": "f7d9cb7f",
   "metadata": {},
   "outputs": [
    {
     "data": {
      "text/html": [
       "<div>\n",
       "<style scoped>\n",
       "    .dataframe tbody tr th:only-of-type {\n",
       "        vertical-align: middle;\n",
       "    }\n",
       "\n",
       "    .dataframe tbody tr th {\n",
       "        vertical-align: top;\n",
       "    }\n",
       "\n",
       "    .dataframe thead th {\n",
       "        text-align: right;\n",
       "    }\n",
       "</style>\n",
       "<table border=\"1\" class=\"dataframe\">\n",
       "  <thead>\n",
       "    <tr style=\"text-align: right;\">\n",
       "      <th></th>\n",
       "      <th>label</th>\n",
       "      <th>text</th>\n",
       "    </tr>\n",
       "    <tr>\n",
       "      <th>id</th>\n",
       "      <th></th>\n",
       "      <th></th>\n",
       "    </tr>\n",
       "  </thead>\n",
       "  <tbody>\n",
       "    <tr>\n",
       "      <th>0</th>\n",
       "      <td>ham</td>\n",
       "      <td>Go until jurong point, crazy.. Available only ...</td>\n",
       "    </tr>\n",
       "    <tr>\n",
       "      <th>1</th>\n",
       "      <td>ham</td>\n",
       "      <td>Ok lar... Joking wif u oni...</td>\n",
       "    </tr>\n",
       "    <tr>\n",
       "      <th>2</th>\n",
       "      <td>spam</td>\n",
       "      <td>Free entry in 2 a wkly comp to win FA Cup fina...</td>\n",
       "    </tr>\n",
       "    <tr>\n",
       "      <th>3</th>\n",
       "      <td>ham</td>\n",
       "      <td>U dun say so early hor... U c already then say...</td>\n",
       "    </tr>\n",
       "    <tr>\n",
       "      <th>4</th>\n",
       "      <td>ham</td>\n",
       "      <td>Nah I don't think he goes to usf, he lives aro...</td>\n",
       "    </tr>\n",
       "  </tbody>\n",
       "</table>\n",
       "</div>"
      ],
      "text/plain": [
       "   label                                               text\n",
       "id                                                         \n",
       "0    ham  Go until jurong point, crazy.. Available only ...\n",
       "1    ham                      Ok lar... Joking wif u oni...\n",
       "2   spam  Free entry in 2 a wkly comp to win FA Cup fina...\n",
       "3    ham  U dun say so early hor... U c already then say...\n",
       "4    ham  Nah I don't think he goes to usf, he lives aro..."
      ]
     },
     "execution_count": 52,
     "metadata": {},
     "output_type": "execute_result"
    }
   ],
   "source": [
    "url = env.get_db_url('spam_db')\n",
    "query = \"select * from spam\"\n",
    "\n",
    "df = pd.read_sql(query, url, index_col='id')\n",
    "df.head()"
   ]
  },
  {
   "cell_type": "markdown",
   "id": "ae2bd922",
   "metadata": {},
   "source": [
    "#### Prepare"
   ]
  },
  {
   "cell_type": "code",
   "execution_count": 56,
   "id": "8c189dba",
   "metadata": {},
   "outputs": [
    {
     "data": {
      "text/plain": [
       "id\n",
       "0       go jurong point crazy available bugis n great ...\n",
       "1                                 ok lar joking wif u oni\n",
       "2       free entry 2 wkly comp win fa cup final tkts 2...\n",
       "3                     u dun say early hor u c already say\n",
       "4                nah dont think go usf life around though\n",
       "                              ...                        \n",
       "5567    2nd time tried 2 contact u u 750 pound prize 2...\n",
       "5568                          _ b going esplanade fr home\n",
       "5569                           pity mood soany suggestion\n",
       "5570    guy bitching acted like id interested buying s...\n",
       "5571                                       rofl true name\n",
       "Name: text, Length: 5572, dtype: object"
      ]
     },
     "execution_count": 56,
     "metadata": {},
     "output_type": "execute_result"
    }
   ],
   "source": [
    "df.text.apply(clean).apply(' '.join)"
   ]
  },
  {
   "cell_type": "code",
   "execution_count": 57,
   "id": "cf120ec4-c689-4e01-bd68-919c1a439e7f",
   "metadata": {},
   "outputs": [],
   "source": [
    "df['clean_text'] = df.text.apply(clean).apply(' '.join)"
   ]
  },
  {
   "cell_type": "code",
   "execution_count": 58,
   "id": "309624ed",
   "metadata": {},
   "outputs": [
    {
     "data": {
      "text/html": [
       "<div>\n",
       "<style scoped>\n",
       "    .dataframe tbody tr th:only-of-type {\n",
       "        vertical-align: middle;\n",
       "    }\n",
       "\n",
       "    .dataframe tbody tr th {\n",
       "        vertical-align: top;\n",
       "    }\n",
       "\n",
       "    .dataframe thead th {\n",
       "        text-align: right;\n",
       "    }\n",
       "</style>\n",
       "<table border=\"1\" class=\"dataframe\">\n",
       "  <thead>\n",
       "    <tr style=\"text-align: right;\">\n",
       "      <th></th>\n",
       "      <th>label</th>\n",
       "      <th>text</th>\n",
       "      <th>clean_text</th>\n",
       "    </tr>\n",
       "    <tr>\n",
       "      <th>id</th>\n",
       "      <th></th>\n",
       "      <th></th>\n",
       "      <th></th>\n",
       "    </tr>\n",
       "  </thead>\n",
       "  <tbody>\n",
       "    <tr>\n",
       "      <th>0</th>\n",
       "      <td>ham</td>\n",
       "      <td>Go until jurong point, crazy.. Available only ...</td>\n",
       "      <td>go jurong point crazy available bugis n great ...</td>\n",
       "    </tr>\n",
       "    <tr>\n",
       "      <th>1</th>\n",
       "      <td>ham</td>\n",
       "      <td>Ok lar... Joking wif u oni...</td>\n",
       "      <td>ok lar joking wif u oni</td>\n",
       "    </tr>\n",
       "    <tr>\n",
       "      <th>2</th>\n",
       "      <td>spam</td>\n",
       "      <td>Free entry in 2 a wkly comp to win FA Cup fina...</td>\n",
       "      <td>free entry 2 wkly comp win fa cup final tkts 2...</td>\n",
       "    </tr>\n",
       "    <tr>\n",
       "      <th>3</th>\n",
       "      <td>ham</td>\n",
       "      <td>U dun say so early hor... U c already then say...</td>\n",
       "      <td>u dun say early hor u c already say</td>\n",
       "    </tr>\n",
       "    <tr>\n",
       "      <th>4</th>\n",
       "      <td>ham</td>\n",
       "      <td>Nah I don't think he goes to usf, he lives aro...</td>\n",
       "      <td>nah dont think go usf life around though</td>\n",
       "    </tr>\n",
       "  </tbody>\n",
       "</table>\n",
       "</div>"
      ],
      "text/plain": [
       "   label                                               text  \\\n",
       "id                                                            \n",
       "0    ham  Go until jurong point, crazy.. Available only ...   \n",
       "1    ham                      Ok lar... Joking wif u oni...   \n",
       "2   spam  Free entry in 2 a wkly comp to win FA Cup fina...   \n",
       "3    ham  U dun say so early hor... U c already then say...   \n",
       "4    ham  Nah I don't think he goes to usf, he lives aro...   \n",
       "\n",
       "                                           clean_text  \n",
       "id                                                     \n",
       "0   go jurong point crazy available bugis n great ...  \n",
       "1                             ok lar joking wif u oni  \n",
       "2   free entry 2 wkly comp win fa cup final tkts 2...  \n",
       "3                 u dun say early hor u c already say  \n",
       "4            nah dont think go usf life around though  "
      ]
     },
     "execution_count": 58,
     "metadata": {},
     "output_type": "execute_result"
    }
   ],
   "source": [
    "df.head()"
   ]
  },
  {
   "cell_type": "markdown",
   "id": "4ab9a541",
   "metadata": {},
   "source": [
    "#### Explore"
   ]
  },
  {
   "cell_type": "code",
   "execution_count": 59,
   "id": "b7f81fbe",
   "metadata": {},
   "outputs": [],
   "source": [
    "train, test = train_test_split(df, test_size=0.2, stratify=df.label, random_state=1234)"
   ]
  },
  {
   "cell_type": "code",
   "execution_count": 61,
   "id": "12dea0ac",
   "metadata": {},
   "outputs": [
    {
     "name": "stdout",
     "output_type": "stream",
     "text": [
      "(4457, 3)\n",
      "(1115, 3)\n"
     ]
    }
   ],
   "source": [
    "print(train.shape)\n",
    "print(test.shape)"
   ]
  },
  {
   "cell_type": "code",
   "execution_count": 62,
   "id": "608e787a",
   "metadata": {},
   "outputs": [
    {
     "data": {
      "text/html": [
       "<div>\n",
       "<style scoped>\n",
       "    .dataframe tbody tr th:only-of-type {\n",
       "        vertical-align: middle;\n",
       "    }\n",
       "\n",
       "    .dataframe tbody tr th {\n",
       "        vertical-align: top;\n",
       "    }\n",
       "\n",
       "    .dataframe thead th {\n",
       "        text-align: right;\n",
       "    }\n",
       "</style>\n",
       "<table border=\"1\" class=\"dataframe\">\n",
       "  <thead>\n",
       "    <tr style=\"text-align: right;\">\n",
       "      <th></th>\n",
       "      <th>label</th>\n",
       "      <th>text</th>\n",
       "      <th>clean_text</th>\n",
       "    </tr>\n",
       "    <tr>\n",
       "      <th>id</th>\n",
       "      <th></th>\n",
       "      <th></th>\n",
       "      <th></th>\n",
       "    </tr>\n",
       "  </thead>\n",
       "  <tbody>\n",
       "    <tr>\n",
       "      <th>1001</th>\n",
       "      <td>spam</td>\n",
       "      <td>Please call our customer service representativ...</td>\n",
       "      <td>please call customer service representative fr...</td>\n",
       "    </tr>\n",
       "    <tr>\n",
       "      <th>2889</th>\n",
       "      <td>ham</td>\n",
       "      <td>Shuhui has bought ron's present it's a swatch ...</td>\n",
       "      <td>shuhui bought ron present swatch watch</td>\n",
       "    </tr>\n",
       "    <tr>\n",
       "      <th>833</th>\n",
       "      <td>ham</td>\n",
       "      <td>Thank you so much. When we skyped wit kz and s...</td>\n",
       "      <td>thank much skyped wit kz sura didnt get pleasu...</td>\n",
       "    </tr>\n",
       "    <tr>\n",
       "      <th>1241</th>\n",
       "      <td>ham</td>\n",
       "      <td>I want to show you the world, princess :) how ...</td>\n",
       "      <td>want show world princess europe</td>\n",
       "    </tr>\n",
       "    <tr>\n",
       "      <th>4124</th>\n",
       "      <td>ham</td>\n",
       "      <td>May b approve panalam...but it should have mor...</td>\n",
       "      <td>may b approve panalambut post</td>\n",
       "    </tr>\n",
       "  </tbody>\n",
       "</table>\n",
       "</div>"
      ],
      "text/plain": [
       "     label                                               text  \\\n",
       "id                                                              \n",
       "1001  spam  Please call our customer service representativ...   \n",
       "2889   ham  Shuhui has bought ron's present it's a swatch ...   \n",
       "833    ham  Thank you so much. When we skyped wit kz and s...   \n",
       "1241   ham  I want to show you the world, princess :) how ...   \n",
       "4124   ham  May b approve panalam...but it should have mor...   \n",
       "\n",
       "                                             clean_text  \n",
       "id                                                       \n",
       "1001  please call customer service representative fr...  \n",
       "2889             shuhui bought ron present swatch watch  \n",
       "833   thank much skyped wit kz sura didnt get pleasu...  \n",
       "1241                    want show world princess europe  \n",
       "4124                      may b approve panalambut post  "
      ]
     },
     "execution_count": 62,
     "metadata": {},
     "output_type": "execute_result"
    }
   ],
   "source": [
    "train.head()"
   ]
  },
  {
   "cell_type": "code",
   "execution_count": 64,
   "id": "17d01df9",
   "metadata": {},
   "outputs": [
    {
     "data": {
      "text/plain": [
       "'please call customer service representative freephone 0808 145 4742 9am11pm guaranteed 1000 cash 500'"
      ]
     },
     "execution_count": 64,
     "metadata": {},
     "output_type": "execute_result"
    }
   ],
   "source": [
    "' '.join(train.clean_text)[:100]"
   ]
  },
  {
   "cell_type": "code",
   "execution_count": 65,
   "id": "1cfd8df2",
   "metadata": {},
   "outputs": [
    {
     "data": {
      "image/png": "[encoded data removed]",
      "text/plain": [
       "<Figure size 640x480 with 1 Axes>"
      ]
     },
     "metadata": {},
     "output_type": "display_data"
    }
   ],
   "source": [
    "img = WordCloud(background_color='white').generate(' '.join(train.clean_text))\n",
    "plt.imshow(img)\n",
    "plt.axis('off')\n",
    "plt.show()"
   ]
  },
  {
   "cell_type": "markdown",
   "id": "4293c6cc",
   "metadata": {},
   "source": [
    "Is this useful? idk. If it's not, don't share it. "
   ]
  },
  {
   "cell_type": "markdown",
   "id": "af5c3065",
   "metadata": {},
   "source": [
    "#### Model"
   ]
  },
  {
   "cell_type": "code",
   "execution_count": 67,
   "id": "84aef7e6",
   "metadata": {},
   "outputs": [
    {
     "data": {
      "text/html": [
       "<div>\n",
       "<style scoped>\n",
       "    .dataframe tbody tr th:only-of-type {\n",
       "        vertical-align: middle;\n",
       "    }\n",
       "\n",
       "    .dataframe tbody tr th {\n",
       "        vertical-align: top;\n",
       "    }\n",
       "\n",
       "    .dataframe thead th {\n",
       "        text-align: right;\n",
       "    }\n",
       "</style>\n",
       "<table border=\"1\" class=\"dataframe\">\n",
       "  <thead>\n",
       "    <tr style=\"text-align: right;\">\n",
       "      <th></th>\n",
       "      <th>label</th>\n",
       "      <th>text</th>\n",
       "      <th>clean_text</th>\n",
       "    </tr>\n",
       "    <tr>\n",
       "      <th>id</th>\n",
       "      <th></th>\n",
       "      <th></th>\n",
       "      <th></th>\n",
       "    </tr>\n",
       "  </thead>\n",
       "  <tbody>\n",
       "    <tr>\n",
       "      <th>1001</th>\n",
       "      <td>spam</td>\n",
       "      <td>Please call our customer service representativ...</td>\n",
       "      <td>please call customer service representative fr...</td>\n",
       "    </tr>\n",
       "    <tr>\n",
       "      <th>2889</th>\n",
       "      <td>ham</td>\n",
       "      <td>Shuhui has bought ron's present it's a swatch ...</td>\n",
       "      <td>shuhui bought ron present swatch watch</td>\n",
       "    </tr>\n",
       "    <tr>\n",
       "      <th>833</th>\n",
       "      <td>ham</td>\n",
       "      <td>Thank you so much. When we skyped wit kz and s...</td>\n",
       "      <td>thank much skyped wit kz sura didnt get pleasu...</td>\n",
       "    </tr>\n",
       "    <tr>\n",
       "      <th>1241</th>\n",
       "      <td>ham</td>\n",
       "      <td>I want to show you the world, princess :) how ...</td>\n",
       "      <td>want show world princess europe</td>\n",
       "    </tr>\n",
       "    <tr>\n",
       "      <th>4124</th>\n",
       "      <td>ham</td>\n",
       "      <td>May b approve panalam...but it should have mor...</td>\n",
       "      <td>may b approve panalambut post</td>\n",
       "    </tr>\n",
       "  </tbody>\n",
       "</table>\n",
       "</div>"
      ],
      "text/plain": [
       "     label                                               text  \\\n",
       "id                                                              \n",
       "1001  spam  Please call our customer service representativ...   \n",
       "2889   ham  Shuhui has bought ron's present it's a swatch ...   \n",
       "833    ham  Thank you so much. When we skyped wit kz and s...   \n",
       "1241   ham  I want to show you the world, princess :) how ...   \n",
       "4124   ham  May b approve panalam...but it should have mor...   \n",
       "\n",
       "                                             clean_text  \n",
       "id                                                       \n",
       "1001  please call customer service representative fr...  \n",
       "2889             shuhui bought ron present swatch watch  \n",
       "833   thank much skyped wit kz sura didnt get pleasu...  \n",
       "1241                    want show world princess europe  \n",
       "4124                      may b approve panalambut post  "
      ]
     },
     "execution_count": 67,
     "metadata": {},
     "output_type": "execute_result"
    }
   ],
   "source": [
    "train.head()"
   ]
  },
  {
   "cell_type": "code",
   "execution_count": 68,
   "id": "8ba013ce",
   "metadata": {},
   "outputs": [],
   "source": [
    "X_train = train.clean_text\n",
    "y_train = train.label"
   ]
  },
  {
   "cell_type": "code",
   "execution_count": 69,
   "id": "d92a7ba9",
   "metadata": {},
   "outputs": [],
   "source": [
    "X_test = test.clean_text\n",
    "y_test = test.label"
   ]
  },
  {
   "cell_type": "code",
   "execution_count": 70,
   "id": "c7243917-b1a4-49c2-a87b-889e2e704a08",
   "metadata": {},
   "outputs": [
    {
     "data": {
      "text/plain": [
       "id\n",
       "1001    please call customer service representative fr...\n",
       "2889               shuhui bought ron present swatch watch\n",
       "833     thank much skyped wit kz sura didnt get pleasu...\n",
       "1241                      want show world princess europe\n",
       "4124                        may b approve panalambut post\n",
       "Name: clean_text, dtype: object"
      ]
     },
     "execution_count": 70,
     "metadata": {},
     "output_type": "execute_result"
    }
   ],
   "source": [
    "X_train.head()"
   ]
  },
  {
   "cell_type": "code",
   "execution_count": 71,
   "id": "32deec1e-9786-4349-b0d5-f87f6e066133",
   "metadata": {},
   "outputs": [
    {
     "data": {
      "text/plain": [
       "id\n",
       "1001    spam\n",
       "2889     ham\n",
       "833      ham\n",
       "1241     ham\n",
       "4124     ham\n",
       "Name: label, dtype: object"
      ]
     },
     "execution_count": 71,
     "metadata": {},
     "output_type": "execute_result"
    }
   ],
   "source": [
    "y_train.head()"
   ]
  },
  {
   "cell_type": "markdown",
   "id": "ead08d71",
   "metadata": {},
   "source": [
    "#### Reminder: Whatever transformations we apply to X_train need to be applied to X_test"
   ]
  },
  {
   "cell_type": "code",
   "execution_count": 76,
   "id": "fbf9b625",
   "metadata": {},
   "outputs": [],
   "source": [
    "#make my bag of words\n",
    "cv = CountVectorizer()\n",
    "X_bow = cv.fit_transform(X_train) #fit only on train!!!\n",
    "X_test_bow = cv.transform(X_test)"
   ]
  },
  {
   "cell_type": "code",
   "execution_count": 78,
   "id": "1583d9d1",
   "metadata": {},
   "outputs": [
    {
     "data": {
      "text/html": [
       "<div>\n",
       "<style scoped>\n",
       "    .dataframe tbody tr th:only-of-type {\n",
       "        vertical-align: middle;\n",
       "    }\n",
       "\n",
       "    .dataframe tbody tr th {\n",
       "        vertical-align: top;\n",
       "    }\n",
       "\n",
       "    .dataframe thead th {\n",
       "        text-align: right;\n",
       "    }\n",
       "</style>\n",
       "<table border=\"1\" class=\"dataframe\">\n",
       "  <thead>\n",
       "    <tr style=\"text-align: right;\">\n",
       "      <th></th>\n",
       "      <th>label</th>\n",
       "      <th>text</th>\n",
       "      <th>clean_text</th>\n",
       "    </tr>\n",
       "    <tr>\n",
       "      <th>id</th>\n",
       "      <th></th>\n",
       "      <th></th>\n",
       "      <th></th>\n",
       "    </tr>\n",
       "  </thead>\n",
       "  <tbody>\n",
       "    <tr>\n",
       "      <th>1001</th>\n",
       "      <td>spam</td>\n",
       "      <td>Please call our customer service representativ...</td>\n",
       "      <td>please call customer service representative fr...</td>\n",
       "    </tr>\n",
       "    <tr>\n",
       "      <th>2889</th>\n",
       "      <td>ham</td>\n",
       "      <td>Shuhui has bought ron's present it's a swatch ...</td>\n",
       "      <td>shuhui bought ron present swatch watch</td>\n",
       "    </tr>\n",
       "    <tr>\n",
       "      <th>833</th>\n",
       "      <td>ham</td>\n",
       "      <td>Thank you so much. When we skyped wit kz and s...</td>\n",
       "      <td>thank much skyped wit kz sura didnt get pleasu...</td>\n",
       "    </tr>\n",
       "    <tr>\n",
       "      <th>1241</th>\n",
       "      <td>ham</td>\n",
       "      <td>I want to show you the world, princess :) how ...</td>\n",
       "      <td>want show world princess europe</td>\n",
       "    </tr>\n",
       "    <tr>\n",
       "      <th>4124</th>\n",
       "      <td>ham</td>\n",
       "      <td>May b approve panalam...but it should have mor...</td>\n",
       "      <td>may b approve panalambut post</td>\n",
       "    </tr>\n",
       "  </tbody>\n",
       "</table>\n",
       "</div>"
      ],
      "text/plain": [
       "     label                                               text  \\\n",
       "id                                                              \n",
       "1001  spam  Please call our customer service representativ...   \n",
       "2889   ham  Shuhui has bought ron's present it's a swatch ...   \n",
       "833    ham  Thank you so much. When we skyped wit kz and s...   \n",
       "1241   ham  I want to show you the world, princess :) how ...   \n",
       "4124   ham  May b approve panalam...but it should have mor...   \n",
       "\n",
       "                                             clean_text  \n",
       "id                                                       \n",
       "1001  please call customer service representative fr...  \n",
       "2889             shuhui bought ron present swatch watch  \n",
       "833   thank much skyped wit kz sura didnt get pleasu...  \n",
       "1241                    want show world princess europe  \n",
       "4124                      may b approve panalambut post  "
      ]
     },
     "execution_count": 78,
     "metadata": {},
     "output_type": "execute_result"
    }
   ],
   "source": [
    "train.head()"
   ]
  },
  {
   "cell_type": "code",
   "execution_count": 80,
   "id": "cf1e46c7",
   "metadata": {},
   "outputs": [
    {
     "data": {
      "text/plain": [
       "id\n",
       "1001    spam\n",
       "2889     ham\n",
       "833      ham\n",
       "1241     ham\n",
       "4124     ham\n",
       "Name: label, dtype: object"
      ]
     },
     "execution_count": 80,
     "metadata": {},
     "output_type": "execute_result"
    }
   ],
   "source": [
    "y_train.head()"
   ]
  },
  {
   "cell_type": "code",
   "execution_count": 81,
   "id": "d68c63cf",
   "metadata": {},
   "outputs": [
    {
     "data": {
      "text/plain": [
       "0.923939869867624"
      ]
     },
     "execution_count": 81,
     "metadata": {},
     "output_type": "execute_result"
    }
   ],
   "source": [
    "#build my model\n",
    "tree = DecisionTreeClassifier(max_depth=3)\n",
    "tree.fit(X_bow, y_train)\n",
    "tree.score(X_bow, y_train)"
   ]
  },
  {
   "cell_type": "code",
   "execution_count": 82,
   "id": "7e8bcd2f",
   "metadata": {},
   "outputs": [
    {
     "data": {
      "text/plain": [
       "0.9139013452914798"
      ]
     },
     "execution_count": 82,
     "metadata": {},
     "output_type": "execute_result"
    }
   ],
   "source": [
    "#evaluate on test\n",
    "tree.score(X_test_bow, y_test)"
   ]
  },
  {
   "cell_type": "markdown",
   "id": "780da33c",
   "metadata": {},
   "source": [
    "### Modeling Results\n",
    "\n",
    "A super-useful feature of decision trees and linear models is that they do some\n",
    "built-in feature selection through the coefficeints or feature importances:"
   ]
  },
  {
   "cell_type": "code",
   "execution_count": 83,
   "id": "7da113a2",
   "metadata": {},
   "outputs": [
    {
     "data": {
      "text/plain": [
       "im      0.041586\n",
       "ill     0.071070\n",
       "free    0.096604\n",
       "txt     0.341116\n",
       "call    0.441919\n",
       "dtype: float64"
      ]
     },
     "execution_count": 83,
     "metadata": {},
     "output_type": "execute_result"
    }
   ],
   "source": [
    "pd.Series(\n",
    "    dict(\n",
    "        zip(cv.get_feature_names_out(), \n",
    "            tree.feature_importances_))).sort_values().tail()"
   ]
  },
  {
   "cell_type": "markdown",
   "id": "a3e11613",
   "metadata": {},
   "source": [
    "## Next Steps\n",
    "\n",
    "- Try other model types\n",
    "    - [Naive Bayes](https://en.wikipedia.org/wiki/Naive_Bayes_classifier)\n",
    "    ([`sklearn`](https://scikit-learn.org/stable/modules/generated/sklearn.naive_bayes.MultinomialNB.html))\n",
    "    is a very popular classifier for NLP tasks.\n",
    "\n",
    "- Look at other metrics, is accuracy the best choice here?\n",
    "\n",
    "- Try ngrams instead of single words\n",
    "\n",
    "- Try a combination of ngrams and words (`ngram_range=(1, 2)` for words and\n",
    "  bigrams)\n",
    "\n",
    "- Try using tf-idf instead of bag of words\n",
    "\n",
    "- Combine the top `n` performing words with the other features that you have\n",
    "  engineered (the `CountVectorizer` and `TfidfVectorizer` have a `vocabulary`\n",
    "  argument you can use to restrict the words used)"
   ]
  },
  {
   "cell_type": "code",
   "execution_count": null,
   "id": "b4395d39",
   "metadata": {},
   "outputs": [],
   "source": []
  }
 ],
 "metadata": {
  "jupytext": {
   "cell_metadata_filter": "-all",
   "main_language": "python",
   "notebook_metadata_filter": "-all"
  },
  "kernelspec": {
   "display_name": "Python 3 (ipykernel)",
   "language": "python",
   "name": "python3"
  },
  "language_info": {
   "codemirror_mode": {
    "name": "ipython",
    "version": 3
   },
   "file_extension": ".py",
   "mimetype": "text/x-python",
   "name": "python",
   "nbconvert_exporter": "python",
   "pygments_lexer": "ipython3",
   "version": "3.9.12"
  }
 },
 "nbformat": 4,
 "nbformat_minor": 5
}
