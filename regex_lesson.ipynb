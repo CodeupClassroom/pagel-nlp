{
 "cells": [
  {
   "cell_type": "markdown",
   "id": "f8b16018",
   "metadata": {},
   "source": [
    "# Regex"
   ]
  },
  {
   "cell_type": "markdown",
   "id": "f6e4c245",
   "metadata": {},
   "source": [
    "What is it?\n",
    "- Regular expressions (called regexes or regex patterns) are a tiny language for dealing with text and character patterns\n",
    "\n",
    "Why do we care? \n",
    "- With this, we can extract text, match text, or replace text that matches a pattern"
   ]
  },
  {
   "cell_type": "code",
   "execution_count": 1,
   "id": "e68ebbdf",
   "metadata": {},
   "outputs": [],
   "source": [
    "import pandas as pd\n",
    "import numpy as np\n",
    "\n",
    "#new import!\n",
    "import re"
   ]
  },
  {
   "cell_type": "markdown",
   "id": "02791cd3",
   "metadata": {},
   "source": [
    "## re library function"
   ]
  },
  {
   "cell_type": "markdown",
   "id": "1b813d39",
   "metadata": {},
   "source": [
    "`re.findall(pattern, string)` "
   ]
  },
  {
   "cell_type": "markdown",
   "id": "cf2c139a",
   "metadata": {},
   "source": [
    " - finds all substrings where the REGEX matches; returns a list"
   ]
  },
  {
   "cell_type": "markdown",
   "id": "0287470e",
   "metadata": {},
   "source": [
    "### Literals - start simple"
   ]
  },
  {
   "cell_type": "code",
   "execution_count": 2,
   "id": "e3031a37",
   "metadata": {},
   "outputs": [],
   "source": [
    "subject = 'abc'"
   ]
  },
  {
   "cell_type": "markdown",
   "id": "e8428404",
   "metadata": {},
   "source": [
    "#### find the letter a"
   ]
  },
  {
   "cell_type": "code",
   "execution_count": 3,
   "id": "69f919b6",
   "metadata": {},
   "outputs": [
    {
     "data": {
      "text/plain": [
       "['a']"
      ]
     },
     "execution_count": 3,
     "metadata": {},
     "output_type": "execute_result"
    }
   ],
   "source": [
    "re.findall(r'a', subject)"
   ]
  },
  {
   "cell_type": "markdown",
   "id": "9a16b4a4",
   "metadata": {},
   "source": [
    "#### find the letter d"
   ]
  },
  {
   "cell_type": "code",
   "execution_count": 4,
   "id": "e4da4fd7",
   "metadata": {},
   "outputs": [
    {
     "data": {
      "text/plain": [
       "[]"
      ]
     },
     "execution_count": 4,
     "metadata": {},
     "output_type": "execute_result"
    }
   ],
   "source": [
    "regexp = r'd'\n",
    "\n",
    "re.findall(regexp, subject)"
   ]
  },
  {
   "cell_type": "markdown",
   "id": "558bb786",
   "metadata": {},
   "source": [
    "### Literals - make it more complex"
   ]
  },
  {
   "cell_type": "code",
   "execution_count": 5,
   "id": "2841f530",
   "metadata": {},
   "outputs": [],
   "source": [
    "subject = 'Mary had a little lamb. 1x little lamb. Not 10 lambs, not 12, not 22, just one'"
   ]
  },
  {
   "cell_type": "markdown",
   "id": "1d18bc87",
   "metadata": {},
   "source": [
    "#### find not"
   ]
  },
  {
   "cell_type": "code",
   "execution_count": 6,
   "id": "fdfd3442",
   "metadata": {},
   "outputs": [
    {
     "data": {
      "text/plain": [
       "['not', 'not']"
      ]
     },
     "execution_count": 6,
     "metadata": {},
     "output_type": "execute_result"
    }
   ],
   "source": [
    "regexp = r'not'\n",
    "\n",
    "re.findall(regexp, subject)"
   ]
  },
  {
   "cell_type": "code",
   "execution_count": 7,
   "id": "d533dd54",
   "metadata": {},
   "outputs": [
    {
     "data": {
      "text/plain": [
       "['Not']"
      ]
     },
     "execution_count": 7,
     "metadata": {},
     "output_type": "execute_result"
    }
   ],
   "source": [
    "regexp = r'Not'\n",
    "\n",
    "re.findall(regexp, subject)"
   ]
  },
  {
   "cell_type": "markdown",
   "id": "d17bf2c7-5ff3-4946-b5cc-ef6dc12e3591",
   "metadata": {},
   "source": [
    "##### regex flag: re.IGNORECASE"
   ]
  },
  {
   "cell_type": "code",
   "execution_count": 8,
   "id": "168af730",
   "metadata": {},
   "outputs": [
    {
     "data": {
      "text/plain": [
       "['Not', 'not', 'not']"
      ]
     },
     "execution_count": 8,
     "metadata": {},
     "output_type": "execute_result"
    }
   ],
   "source": [
    "regexp = r'not'\n",
    "\n",
    "re.findall(regexp, subject, re.IGNORECASE)"
   ]
  },
  {
   "cell_type": "markdown",
   "id": "e652153a",
   "metadata": {},
   "source": [
    "#### find lamb"
   ]
  },
  {
   "cell_type": "code",
   "execution_count": 9,
   "id": "b1a5c817",
   "metadata": {},
   "outputs": [
    {
     "data": {
      "text/plain": [
       "['lamb', 'lamb', 'lamb']"
      ]
     },
     "execution_count": 9,
     "metadata": {},
     "output_type": "execute_result"
    }
   ],
   "source": [
    "regexp = r'lamb'\n",
    "\n",
    "re.findall(regexp, subject)"
   ]
  },
  {
   "cell_type": "markdown",
   "id": "0ec9f0e8",
   "metadata": {},
   "source": [
    "## Metacharacters\n",
    "<div class=\"alert alert-block alert-info\">\n",
    "    \n",
    "- `\\w`: any letter or digit\n",
    "- `\\W`: anything that is *not* a letter or digit\n",
    "\n",
    "\n",
    "\n",
    "- `\\d`: any digit\n",
    "- `\\D`: anything that is *not* a digit\n",
    "\n",
    "\n",
    "- `\\s` : any whitespace\n",
    "\n",
    "\n",
    "-  `.` : anything\n",
    "    \n",
    "</div>"
   ]
  },
  {
   "cell_type": "markdown",
   "id": "f4a793d2",
   "metadata": {},
   "source": [
    "### Try them all "
   ]
  },
  {
   "cell_type": "code",
   "execution_count": 10,
   "id": "e3d80b9d",
   "metadata": {},
   "outputs": [],
   "source": [
    "subject = 'abcccC. 123!w '"
   ]
  },
  {
   "cell_type": "markdown",
   "id": "58cdd6b4",
   "metadata": {},
   "source": [
    "#### `\\w`: any letter or number"
   ]
  },
  {
   "cell_type": "code",
   "execution_count": 11,
   "id": "5fc0eede",
   "metadata": {},
   "outputs": [
    {
     "data": {
      "text/plain": [
       "['a', 'b', 'c', 'c', 'c', 'C', '1', '2', '3', 'w']"
      ]
     },
     "execution_count": 11,
     "metadata": {},
     "output_type": "execute_result"
    }
   ],
   "source": [
    "regexp = r'\\w'\n",
    "\n",
    "re.findall(regexp, subject)"
   ]
  },
  {
   "cell_type": "markdown",
   "id": "b873c8bf",
   "metadata": {},
   "source": [
    "#### what does \\w\\w bring back?"
   ]
  },
  {
   "cell_type": "code",
   "execution_count": 12,
   "id": "352f6910",
   "metadata": {},
   "outputs": [
    {
     "data": {
      "text/plain": [
       "['ab', 'cc', 'cC', '12']"
      ]
     },
     "execution_count": 12,
     "metadata": {},
     "output_type": "execute_result"
    }
   ],
   "source": [
    "regexp = r'\\w\\w'\n",
    "\n",
    "re.findall(regexp, subject)"
   ]
  },
  {
   "cell_type": "markdown",
   "id": "4e6024ac",
   "metadata": {},
   "source": [
    "#### `\\W`: anything that is not a letter or number"
   ]
  },
  {
   "cell_type": "code",
   "execution_count": 13,
   "id": "305d4b2d-a6cc-43d2-84c6-456f69487e8f",
   "metadata": {},
   "outputs": [
    {
     "data": {
      "text/plain": [
       "'abcccC. 123!w '"
      ]
     },
     "execution_count": 13,
     "metadata": {},
     "output_type": "execute_result"
    }
   ],
   "source": [
    "subject"
   ]
  },
  {
   "cell_type": "code",
   "execution_count": 14,
   "id": "f314be74",
   "metadata": {},
   "outputs": [
    {
     "data": {
      "text/plain": [
       "['.', ' ', '!', ' ']"
      ]
     },
     "execution_count": 14,
     "metadata": {},
     "output_type": "execute_result"
    }
   ],
   "source": [
    "regexp = r'\\W'\n",
    "\n",
    "re.findall(regexp, subject)"
   ]
  },
  {
   "cell_type": "markdown",
   "id": "405478f0",
   "metadata": {},
   "source": [
    "#### `\\d`: any digit"
   ]
  },
  {
   "cell_type": "code",
   "execution_count": 15,
   "id": "699528b0",
   "metadata": {},
   "outputs": [
    {
     "data": {
      "text/plain": [
       "['1', '2', '3']"
      ]
     },
     "execution_count": 15,
     "metadata": {},
     "output_type": "execute_result"
    }
   ],
   "source": [
    "regexp = r'\\d'\n",
    "\n",
    "re.findall(regexp, subject)"
   ]
  },
  {
   "cell_type": "markdown",
   "id": "4bc29a4f",
   "metadata": {},
   "source": [
    "#### `\\D`: anything that is not a digit"
   ]
  },
  {
   "cell_type": "code",
   "execution_count": 16,
   "id": "9130752a",
   "metadata": {},
   "outputs": [
    {
     "data": {
      "text/plain": [
       "['a', 'b', 'c', 'c', 'c', 'C', '.', ' ', '!', 'w', ' ']"
      ]
     },
     "execution_count": 16,
     "metadata": {},
     "output_type": "execute_result"
    }
   ],
   "source": [
    "regexp = r'\\D'\n",
    "\n",
    "re.findall(regexp, subject)"
   ]
  },
  {
   "cell_type": "markdown",
   "id": "66e4bcd9",
   "metadata": {},
   "source": [
    "#### `\\s` : any whitespace"
   ]
  },
  {
   "cell_type": "code",
   "execution_count": 17,
   "id": "5dbfc42e-d3da-4695-835f-2985318dcde3",
   "metadata": {},
   "outputs": [
    {
     "data": {
      "text/plain": [
       "'abcccC. 123!w '"
      ]
     },
     "execution_count": 17,
     "metadata": {},
     "output_type": "execute_result"
    }
   ],
   "source": [
    "subject"
   ]
  },
  {
   "cell_type": "code",
   "execution_count": 18,
   "id": "cf86bb88",
   "metadata": {},
   "outputs": [
    {
     "data": {
      "text/plain": [
       "[' ', ' ']"
      ]
     },
     "execution_count": 18,
     "metadata": {},
     "output_type": "execute_result"
    }
   ],
   "source": [
    "regexp = r'\\s'\n",
    "\n",
    "re.findall(regexp, subject)"
   ]
  },
  {
   "cell_type": "markdown",
   "id": "6c78b846",
   "metadata": {},
   "source": [
    "#### `.` : anything"
   ]
  },
  {
   "cell_type": "code",
   "execution_count": 19,
   "id": "f24fbfed",
   "metadata": {},
   "outputs": [
    {
     "data": {
      "text/plain": [
       "['a', 'b', 'c', 'c', 'c', 'C', '.', ' ', '1', '2', '3', '!', 'w', ' ']"
      ]
     },
     "execution_count": 19,
     "metadata": {},
     "output_type": "execute_result"
    }
   ],
   "source": [
    "regexp = r'.'\n",
    "\n",
    "re.findall(regexp, subject)"
   ]
  },
  {
   "cell_type": "markdown",
   "id": "c3a72e71",
   "metadata": {},
   "source": [
    "#### find the `.` only\n",
    "use an escape character, `\\`, to find characters that are metacharacters"
   ]
  },
  {
   "cell_type": "code",
   "execution_count": 20,
   "id": "b82946db-948a-449e-b155-07d0e736ff47",
   "metadata": {},
   "outputs": [
    {
     "data": {
      "text/plain": [
       "'abcccC. 123!w '"
      ]
     },
     "execution_count": 20,
     "metadata": {},
     "output_type": "execute_result"
    }
   ],
   "source": [
    "subject"
   ]
  },
  {
   "cell_type": "code",
   "execution_count": 21,
   "id": "aa717a74",
   "metadata": {},
   "outputs": [
    {
     "data": {
      "text/plain": [
       "['.']"
      ]
     },
     "execution_count": 21,
     "metadata": {},
     "output_type": "execute_result"
    }
   ],
   "source": [
    "regexp = r'\\.'\n",
    "\n",
    "re.findall(regexp, subject)"
   ]
  },
  {
   "cell_type": "markdown",
   "id": "557b5dba",
   "metadata": {},
   "source": [
    "<div class=\"alert alert-block alert-warning\">\n",
    "    <b>Mini-Exercise</b>\n",
    "    \n",
    "- Match the string 'c 1' using only metacharacters\n",
    "- The returned list should have only one element in it\n",
    "- Find 3 different syntax combinations\n",
    "\n",
    "    \n",
    "</div>"
   ]
  },
  {
   "cell_type": "code",
   "execution_count": 22,
   "id": "b30142b8",
   "metadata": {},
   "outputs": [],
   "source": [
    "subject = 'c 1'"
   ]
  },
  {
   "cell_type": "code",
   "execution_count": 23,
   "id": "5c91f152",
   "metadata": {},
   "outputs": [
    {
     "data": {
      "text/plain": [
       "['c 1']"
      ]
     },
     "execution_count": 23,
     "metadata": {},
     "output_type": "execute_result"
    }
   ],
   "source": [
    "regexp = r'...'\n",
    "\n",
    "re.findall(regexp, subject)"
   ]
  },
  {
   "cell_type": "code",
   "execution_count": 24,
   "id": "3be5f482",
   "metadata": {},
   "outputs": [
    {
     "data": {
      "text/plain": [
       "['c 1']"
      ]
     },
     "execution_count": 24,
     "metadata": {},
     "output_type": "execute_result"
    }
   ],
   "source": [
    "regexp = r'\\w\\s\\d'\n",
    "\n",
    "re.findall(regexp, subject)"
   ]
  },
  {
   "cell_type": "code",
   "execution_count": 25,
   "id": "f99b181b",
   "metadata": {},
   "outputs": [
    {
     "data": {
      "text/plain": [
       "['c 1']"
      ]
     },
     "execution_count": 25,
     "metadata": {},
     "output_type": "execute_result"
    }
   ],
   "source": [
    "regexp = r'\\D\\s\\d'\n",
    "\n",
    "re.findall(regexp, subject)"
   ]
  },
  {
   "cell_type": "code",
   "execution_count": 26,
   "id": "73b2a190-20a1-40f4-9259-8f47035b0961",
   "metadata": {},
   "outputs": [
    {
     "data": {
      "text/plain": [
       "['c 1']"
      ]
     },
     "execution_count": 26,
     "metadata": {},
     "output_type": "execute_result"
    }
   ],
   "source": [
    "regexp = r'\\w\\W\\w'\n",
    "\n",
    "re.findall(regexp, subject)"
   ]
  },
  {
   "cell_type": "markdown",
   "id": "c4b108f3",
   "metadata": {},
   "source": [
    "## Repeating"
   ]
  },
  {
   "cell_type": "markdown",
   "id": "76de103c",
   "metadata": {},
   "source": [
    "<div class='alert alert-info'>\n",
    "    \n",
    "- `{}`: custom number of repetitions\n",
    "    - `{x}`: exactly x repetitions\n",
    "    - `{x,}`: x or more\n",
    "    - `{x,y}`: between x and y repetitions\n",
    "\n",
    "- `*`: zero or more\n",
    "- `+`: one or more\n",
    "- `?`: optional / not greedy\n",
    "    \n",
    "</div>"
   ]
  },
  {
   "cell_type": "code",
   "execution_count": 27,
   "id": "e1308611",
   "metadata": {},
   "outputs": [],
   "source": [
    "subject = 'ccccc! 123 ccc! 99!'"
   ]
  },
  {
   "cell_type": "markdown",
   "id": "74f92e94",
   "metadata": {},
   "source": [
    "#### find the whole string"
   ]
  },
  {
   "cell_type": "code",
   "execution_count": 28,
   "id": "d4f1c234",
   "metadata": {},
   "outputs": [
    {
     "data": {
      "text/plain": [
       "['ccccc! 123 ccc! 99!']"
      ]
     },
     "execution_count": 28,
     "metadata": {},
     "output_type": "execute_result"
    }
   ],
   "source": [
    "regexp = r'.+'\n",
    "\n",
    "re.findall(regexp, subject)"
   ]
  },
  {
   "cell_type": "markdown",
   "id": "e6650780",
   "metadata": {},
   "source": [
    "#### find all the c groups"
   ]
  },
  {
   "cell_type": "code",
   "execution_count": 29,
   "id": "f2602067-1c24-4aff-b327-258ba3aed175",
   "metadata": {},
   "outputs": [
    {
     "data": {
      "text/plain": [
       "'ccccc! 123 ccc! 99!'"
      ]
     },
     "execution_count": 29,
     "metadata": {},
     "output_type": "execute_result"
    }
   ],
   "source": [
    "subject"
   ]
  },
  {
   "cell_type": "code",
   "execution_count": 30,
   "id": "4859a47e",
   "metadata": {},
   "outputs": [
    {
     "data": {
      "text/plain": [
       "['c', 'c', 'c', 'c', 'c', 'c', 'c', 'c']"
      ]
     },
     "execution_count": 30,
     "metadata": {},
     "output_type": "execute_result"
    }
   ],
   "source": [
    "regexp = r'c'\n",
    "\n",
    "re.findall(regexp, subject)"
   ]
  },
  {
   "cell_type": "code",
   "execution_count": 31,
   "id": "2275a3bf",
   "metadata": {},
   "outputs": [
    {
     "data": {
      "text/plain": [
       "['ccccc']"
      ]
     },
     "execution_count": 31,
     "metadata": {},
     "output_type": "execute_result"
    }
   ],
   "source": [
    "regexp = r'c{5}'\n",
    "\n",
    "re.findall(regexp, subject)"
   ]
  },
  {
   "cell_type": "code",
   "execution_count": 32,
   "id": "a03ce0f4",
   "metadata": {},
   "outputs": [
    {
     "data": {
      "text/plain": [
       "['ccc', 'ccc']"
      ]
     },
     "execution_count": 32,
     "metadata": {},
     "output_type": "execute_result"
    }
   ],
   "source": [
    "regexp = r'c{3}'\n",
    "\n",
    "re.findall(regexp, subject)"
   ]
  },
  {
   "cell_type": "code",
   "execution_count": 33,
   "id": "a17036a3",
   "metadata": {},
   "outputs": [
    {
     "data": {
      "text/plain": [
       "['ccccc', 'ccc']"
      ]
     },
     "execution_count": 33,
     "metadata": {},
     "output_type": "execute_result"
    }
   ],
   "source": [
    "regexp = r'c{3,}'\n",
    "\n",
    "re.findall(regexp, subject)"
   ]
  },
  {
   "cell_type": "code",
   "execution_count": 34,
   "id": "0d9a6400-72c0-4dd3-91eb-ceca73db890c",
   "metadata": {},
   "outputs": [
    {
     "data": {
      "text/plain": [
       "'ccccc! 123 ccc! 99!'"
      ]
     },
     "execution_count": 34,
     "metadata": {},
     "output_type": "execute_result"
    }
   ],
   "source": [
    "subject"
   ]
  },
  {
   "cell_type": "code",
   "execution_count": 35,
   "id": "393f5001-d741-4026-86dd-594047a1340e",
   "metadata": {},
   "outputs": [
    {
     "data": {
      "text/plain": [
       "['ccccc', 'ccc']"
      ]
     },
     "execution_count": 35,
     "metadata": {},
     "output_type": "execute_result"
    }
   ],
   "source": [
    "regexp = r'c+'\n",
    "\n",
    "re.findall(regexp, subject)"
   ]
  },
  {
   "cell_type": "markdown",
   "id": "bfa84a38",
   "metadata": {},
   "source": [
    "#### find 123 and anything after it"
   ]
  },
  {
   "cell_type": "code",
   "execution_count": 36,
   "id": "8d240ba6-2d5e-4397-ba86-3f720ff891a6",
   "metadata": {},
   "outputs": [
    {
     "data": {
      "text/plain": [
       "'ccccc! 123 ccc! 99!'"
      ]
     },
     "execution_count": 36,
     "metadata": {},
     "output_type": "execute_result"
    }
   ],
   "source": [
    "subject"
   ]
  },
  {
   "cell_type": "code",
   "execution_count": 37,
   "id": "a45ce1c4",
   "metadata": {},
   "outputs": [
    {
     "data": {
      "text/plain": [
       "['123 ccc! 99!']"
      ]
     },
     "execution_count": 37,
     "metadata": {},
     "output_type": "execute_result"
    }
   ],
   "source": [
    "#123: find literal 123\n",
    "#.: find anything\n",
    "#+: find everything after\n",
    "regexp = r'123.+'\n",
    "\n",
    "re.findall(regexp, subject)"
   ]
  },
  {
   "cell_type": "markdown",
   "id": "4b0e14b0",
   "metadata": {},
   "source": [
    "#### find the exclamation points and everything inbetween them"
   ]
  },
  {
   "cell_type": "code",
   "execution_count": 38,
   "id": "533d31fe-ce08-4855-945c-5e7fa767a974",
   "metadata": {},
   "outputs": [
    {
     "data": {
      "text/plain": [
       "'ccccc! 123 ccc! 99!'"
      ]
     },
     "execution_count": 38,
     "metadata": {},
     "output_type": "execute_result"
    }
   ],
   "source": [
    "subject"
   ]
  },
  {
   "cell_type": "code",
   "execution_count": 39,
   "id": "68592688",
   "metadata": {},
   "outputs": [
    {
     "data": {
      "text/plain": [
       "['! 123 ccc! 99!']"
      ]
     },
     "execution_count": 39,
     "metadata": {},
     "output_type": "execute_result"
    }
   ],
   "source": [
    "#!: first exclamation point\n",
    "#.+: everything after\n",
    "#!: last exclamation point\n",
    "\n",
    "regexp = r'!.+!'\n",
    "\n",
    "re.findall(regexp, subject)"
   ]
  },
  {
   "cell_type": "markdown",
   "id": "2ea705b6",
   "metadata": {},
   "source": [
    "#### find the exclamation points and everything inbetween the first two"
   ]
  },
  {
   "cell_type": "code",
   "execution_count": 40,
   "id": "f342c97d",
   "metadata": {},
   "outputs": [
    {
     "data": {
      "text/plain": [
       "['! 123 ccc!']"
      ]
     },
     "execution_count": 40,
     "metadata": {},
     "output_type": "execute_result"
    }
   ],
   "source": [
    "#!: first exclamation point\n",
    "#.+: everything after\n",
    "#?: don't be greedy and stop at the first exclamation point\n",
    "#!: last exclamation point\n",
    "\n",
    "regexp = r'!.+?!'\n",
    "\n",
    "re.findall(regexp, subject)"
   ]
  },
  {
   "cell_type": "markdown",
   "id": "a66ac8fa",
   "metadata": {},
   "source": [
    "<div class='alert alert-warning'>\n",
    "<b>Mini Exercise</b>\n",
    "    \n",
    "From the below string, find the following information:\n",
    "- Find all the numbers\n",
    "- Find the number that has exactly 5 digits\n",
    "- Find numbers that has 4 or more digits\n",
    "- Find the sentences contained in quotes\n",
    "- Find `http://` or `https://`"
   ]
  },
  {
   "cell_type": "code",
   "execution_count": 41,
   "id": "170bed29",
   "metadata": {},
   "outputs": [
    {
     "data": {
      "text/plain": [
       "'Codeup, founded in 2014, is located at 600 Navarro St. Suite 350, San Antonio, TX 78230. tagline: \"launch your career in tech!\" You can find us online at http://codeup.com and our alumni portal is located at https://alumni.codeup.comand \"codeup is a great school\"! 100,000'"
      ]
     },
     "execution_count": 41,
     "metadata": {},
     "output_type": "execute_result"
    }
   ],
   "source": [
    "subject = '''\n",
    "Codeup, founded in 2014, is located at 600 Navarro St. \n",
    "Suite 350, San Antonio, TX 78230. \n",
    "tagline: \"launch your career in tech!\" \n",
    "You can find us online at http://codeup.com \n",
    "and our alumni portal is located at https://alumni.codeup.com\n",
    "and \"codeup is a great school\"! 100,000\n",
    "'''\n",
    "\n",
    "subject = subject.replace('\\n','')\n",
    "subject"
   ]
  },
  {
   "cell_type": "markdown",
   "id": "b3e64e9d",
   "metadata": {},
   "source": [
    "#### Find all the numbers"
   ]
  },
  {
   "cell_type": "code",
   "execution_count": 42,
   "id": "c7b3029c",
   "metadata": {},
   "outputs": [
    {
     "data": {
      "text/plain": [
       "['2014', '600', '350', '78230', '100', '000']"
      ]
     },
     "execution_count": 42,
     "metadata": {},
     "output_type": "execute_result"
    }
   ],
   "source": [
    "regexp = r'\\d+'\n",
    "\n",
    "re.findall(regexp, subject)"
   ]
  },
  {
   "cell_type": "markdown",
   "id": "998a7ec5",
   "metadata": {},
   "source": [
    "#### Find a number that has exactly 5 digits"
   ]
  },
  {
   "cell_type": "code",
   "execution_count": 43,
   "id": "ff9d0a55",
   "metadata": {},
   "outputs": [
    {
     "data": {
      "text/plain": [
       "['78230']"
      ]
     },
     "execution_count": 43,
     "metadata": {},
     "output_type": "execute_result"
    }
   ],
   "source": [
    "regexp = r'\\d\\d\\d\\d\\d'\n",
    "\n",
    "re.findall(regexp, subject)"
   ]
  },
  {
   "cell_type": "code",
   "execution_count": 44,
   "id": "ba416905",
   "metadata": {},
   "outputs": [
    {
     "data": {
      "text/plain": [
       "['78230']"
      ]
     },
     "execution_count": 44,
     "metadata": {},
     "output_type": "execute_result"
    }
   ],
   "source": [
    "regexp = r'\\d{5}'\n",
    "\n",
    "re.findall(regexp, subject)"
   ]
  },
  {
   "cell_type": "markdown",
   "id": "f3d21e11",
   "metadata": {},
   "source": [
    "#### Find numbers that has 4 or more digits"
   ]
  },
  {
   "cell_type": "code",
   "execution_count": 45,
   "id": "a3141bf8",
   "metadata": {},
   "outputs": [
    {
     "data": {
      "text/plain": [
       "['2014', '78230']"
      ]
     },
     "execution_count": 45,
     "metadata": {},
     "output_type": "execute_result"
    }
   ],
   "source": [
    "regexp =  r'\\d{4,}'\n",
    "\n",
    "re.findall(regexp, subject)"
   ]
  },
  {
   "cell_type": "markdown",
   "id": "0c9aea1a",
   "metadata": {},
   "source": [
    "#### Find the sentences contained in quotes"
   ]
  },
  {
   "cell_type": "code",
   "execution_count": 46,
   "id": "914cf30e-3ad6-4760-ada0-3c3f17e15d31",
   "metadata": {},
   "outputs": [
    {
     "data": {
      "text/plain": [
       "'Codeup, founded in 2014, is located at 600 Navarro St. Suite 350, San Antonio, TX 78230. tagline: \"launch your career in tech!\" You can find us online at http://codeup.com and our alumni portal is located at https://alumni.codeup.comand \"codeup is a great school\"! 100,000'"
      ]
     },
     "execution_count": 46,
     "metadata": {},
     "output_type": "execute_result"
    }
   ],
   "source": [
    "subject"
   ]
  },
  {
   "cell_type": "code",
   "execution_count": 47,
   "id": "fa4c3f79",
   "metadata": {},
   "outputs": [
    {
     "data": {
      "text/plain": [
       "['\"launch your career in tech!\"', '\"codeup is a great school\"']"
      ]
     },
     "execution_count": 47,
     "metadata": {},
     "output_type": "execute_result"
    }
   ],
   "source": [
    "regexp = r'\".+?\"'\n",
    "\n",
    "re.findall(regexp, subject)"
   ]
  },
  {
   "cell_type": "markdown",
   "id": "fd3b6aec",
   "metadata": {},
   "source": [
    "#### Find `http://` or `https://`"
   ]
  },
  {
   "cell_type": "code",
   "execution_count": 48,
   "id": "bac1cab9",
   "metadata": {},
   "outputs": [
    {
     "data": {
      "text/plain": [
       "['http://', 'https://']"
      ]
     },
     "execution_count": 48,
     "metadata": {},
     "output_type": "execute_result"
    }
   ],
   "source": [
    "regexp = r'http://|https://'\n",
    "\n",
    "re.findall(regexp, subject)"
   ]
  },
  {
   "cell_type": "code",
   "execution_count": 49,
   "id": "473c31ce",
   "metadata": {},
   "outputs": [
    {
     "data": {
      "text/plain": [
       "['http://', 'https://']"
      ]
     },
     "execution_count": 49,
     "metadata": {},
     "output_type": "execute_result"
    }
   ],
   "source": [
    "regexp = r'htt.+?//'\n",
    "\n",
    "re.findall(regexp, subject)"
   ]
  },
  {
   "cell_type": "code",
   "execution_count": 50,
   "id": "74f7d99d",
   "metadata": {},
   "outputs": [
    {
     "data": {
      "text/plain": [
       "['http://', 'https://']"
      ]
     },
     "execution_count": 50,
     "metadata": {},
     "output_type": "execute_result"
    }
   ],
   "source": [
    "regexp = r'http.*?//'\n",
    "\n",
    "re.findall(regexp, subject)"
   ]
  },
  {
   "cell_type": "code",
   "execution_count": 51,
   "id": "992b3773-4f67-467c-a251-c2add3e9dcd4",
   "metadata": {},
   "outputs": [
    {
     "data": {
      "text/plain": [
       "['http://', 'https://']"
      ]
     },
     "execution_count": 51,
     "metadata": {},
     "output_type": "execute_result"
    }
   ],
   "source": [
    "regexp = r'https?://'\n",
    "\n",
    "re.findall(regexp, subject)"
   ]
  },
  {
   "cell_type": "code",
   "execution_count": 52,
   "id": "2067b3e1-82a8-436a-97b2-ed3f75723579",
   "metadata": {},
   "outputs": [
    {
     "data": {
      "text/plain": [
       "['http://', 'https://']"
      ]
     },
     "execution_count": 52,
     "metadata": {},
     "output_type": "execute_result"
    }
   ],
   "source": [
    "regexp = r'https*://'\n",
    "\n",
    "re.findall(regexp, subject)"
   ]
  },
  {
   "cell_type": "markdown",
   "id": "1ed9f146",
   "metadata": {},
   "source": [
    "### Any of / None of"
   ]
  },
  {
   "cell_type": "markdown",
   "id": "9b578aa6",
   "metadata": {},
   "source": [
    "<div class='alert alert-info'>\n",
    "    \n",
    "- `[]`: will match any element inside of\n",
    "- `[^]`: will match any element NOT inside of\n",
    "- `[-]`: will match a range of values inside of\n",
    "    \n",
    "</div>"
   ]
  },
  {
   "cell_type": "markdown",
   "id": "d1955cc5",
   "metadata": {},
   "source": [
    "#### match using brackets"
   ]
  },
  {
   "cell_type": "code",
   "execution_count": 53,
   "id": "59a687f5",
   "metadata": {},
   "outputs": [],
   "source": [
    "subject = 'abc 123745 1bc'"
   ]
  },
  {
   "cell_type": "markdown",
   "id": "5669534e",
   "metadata": {},
   "source": [
    "#### find a or b"
   ]
  },
  {
   "cell_type": "code",
   "execution_count": 54,
   "id": "3d3f0abe",
   "metadata": {},
   "outputs": [
    {
     "data": {
      "text/plain": [
       "['a', 'b', 'b']"
      ]
     },
     "execution_count": 54,
     "metadata": {},
     "output_type": "execute_result"
    }
   ],
   "source": [
    "regexp = r'a|b'\n",
    "\n",
    "re.findall(regexp, subject)"
   ]
  },
  {
   "cell_type": "code",
   "execution_count": 55,
   "id": "39a1b2ad",
   "metadata": {},
   "outputs": [
    {
     "data": {
      "text/plain": [
       "['a', 'b', 'b']"
      ]
     },
     "execution_count": 55,
     "metadata": {},
     "output_type": "execute_result"
    }
   ],
   "source": [
    "regexp = r'[ab]'\n",
    "\n",
    "re.findall(regexp, subject)"
   ]
  },
  {
   "cell_type": "markdown",
   "id": "46c54fa0",
   "metadata": {},
   "source": [
    "#### find values that are NOT a or b"
   ]
  },
  {
   "cell_type": "code",
   "execution_count": 56,
   "id": "096eb59c",
   "metadata": {},
   "outputs": [
    {
     "data": {
      "text/plain": [
       "['c', ' ', '1', '2', '3', '7', '4', '5', ' ', '1', 'c']"
      ]
     },
     "execution_count": 56,
     "metadata": {},
     "output_type": "execute_result"
    }
   ],
   "source": [
    "regexp = r'[^ab]'\n",
    "\n",
    "re.findall(regexp, subject)"
   ]
  },
  {
   "cell_type": "markdown",
   "id": "d1bb4c04",
   "metadata": {},
   "source": [
    "#### find values that are between 2 and 4"
   ]
  },
  {
   "cell_type": "code",
   "execution_count": 57,
   "id": "ec57e828-cf63-4f01-90e7-48a8deb88bd5",
   "metadata": {},
   "outputs": [
    {
     "data": {
      "text/plain": [
       "'abc 123745 1bc'"
      ]
     },
     "execution_count": 57,
     "metadata": {},
     "output_type": "execute_result"
    }
   ],
   "source": [
    "subject"
   ]
  },
  {
   "cell_type": "code",
   "execution_count": 58,
   "id": "3ae43cb7",
   "metadata": {},
   "outputs": [
    {
     "data": {
      "text/plain": [
       "['2', '3', '4']"
      ]
     },
     "execution_count": 58,
     "metadata": {},
     "output_type": "execute_result"
    }
   ],
   "source": [
    "regexp = r'[2-4]'\n",
    "\n",
    "re.findall(regexp, subject)"
   ]
  },
  {
   "cell_type": "markdown",
   "id": "57902c3c",
   "metadata": {},
   "source": [
    "### Anchors\n",
    "<div class='alert alert-info'>\n",
    "\n",
    "- `^`: starts with\n",
    "- `$`: ends with\n",
    "- `\\b`: word boundary\n",
    "\n",
    "</div>"
   ]
  },
  {
   "cell_type": "code",
   "execution_count": 59,
   "id": "51f3910e",
   "metadata": {},
   "outputs": [],
   "source": [
    "subject = 'kiwi aardvark banana codeup data science academy extra'"
   ]
  },
  {
   "cell_type": "markdown",
   "id": "25554e66",
   "metadata": {},
   "source": [
    "#### match all words that start with a vowel"
   ]
  },
  {
   "cell_type": "code",
   "execution_count": 60,
   "id": "1230dc6e",
   "metadata": {},
   "outputs": [
    {
     "data": {
      "text/plain": [
       "['iwi', 'aardvark', 'anana', 'odeup', 'ata', 'ience', 'academy', 'extra']"
      ]
     },
     "execution_count": 60,
     "metadata": {},
     "output_type": "execute_result"
    }
   ],
   "source": [
    "regexp = r'[aeiou]\\w+'\n",
    "\n",
    "re.findall(regexp, subject)"
   ]
  },
  {
   "cell_type": "code",
   "execution_count": 61,
   "id": "61c0bca5",
   "metadata": {},
   "outputs": [
    {
     "data": {
      "text/plain": [
       "['aardvark', 'academy', 'extra']"
      ]
     },
     "execution_count": 61,
     "metadata": {},
     "output_type": "execute_result"
    }
   ],
   "source": [
    "#using a boundary\n",
    "regexp = r'\\b[aeiou]\\w+'\n",
    "\n",
    "re.findall(regexp, subject)"
   ]
  },
  {
   "cell_type": "code",
   "execution_count": 62,
   "id": "84b8dc75-061b-420d-80fc-4ab91542f178",
   "metadata": {},
   "outputs": [
    {
     "data": {
      "text/plain": [
       "'kiwi aardvark banana codeup data science academy extra'"
      ]
     },
     "execution_count": 62,
     "metadata": {},
     "output_type": "execute_result"
    }
   ],
   "source": [
    "subject"
   ]
  },
  {
   "cell_type": "code",
   "execution_count": 63,
   "id": "8782bcb3",
   "metadata": {},
   "outputs": [
    {
     "data": {
      "text/plain": [
       "[]"
      ]
     },
     "execution_count": 63,
     "metadata": {},
     "output_type": "execute_result"
    }
   ],
   "source": [
    "#using a carrot\n",
    "regexp = r'^[aeiou]\\w+'\n",
    "\n",
    "re.findall(regexp, subject)"
   ]
  },
  {
   "cell_type": "code",
   "execution_count": 64,
   "id": "96f87fd0",
   "metadata": {},
   "outputs": [
    {
     "data": {
      "text/plain": [
       "['kiwi', 'aardvark', 'banana', 'codeup', 'data', 'science', 'academy', 'extra']"
      ]
     },
     "execution_count": 64,
     "metadata": {},
     "output_type": "execute_result"
    }
   ],
   "source": [
    "#split subjects to use anchor\n",
    "subjects = subject.split()\n",
    "subjects"
   ]
  },
  {
   "cell_type": "code",
   "execution_count": 65,
   "id": "26357578",
   "metadata": {},
   "outputs": [
    {
     "name": "stdout",
     "output_type": "stream",
     "text": [
      "[]\n",
      "['aardvark']\n",
      "[]\n",
      "[]\n",
      "[]\n",
      "[]\n",
      "['academy']\n",
      "['extra']\n"
     ]
    }
   ],
   "source": [
    "#use for loop to cycle through them\n",
    "for sub in subjects:\n",
    "    print(re.findall(r'^[aeiou]\\w+',sub))"
   ]
  },
  {
   "cell_type": "markdown",
   "id": "47289452",
   "metadata": {},
   "source": [
    "#### match all words that end with a vowel"
   ]
  },
  {
   "cell_type": "code",
   "execution_count": 66,
   "id": "8bedbb4c",
   "metadata": {},
   "outputs": [
    {
     "data": {
      "text/plain": [
       "['kiwi', 'banana', 'data', 'science', 'extra']"
      ]
     },
     "execution_count": 66,
     "metadata": {},
     "output_type": "execute_result"
    }
   ],
   "source": [
    "regexp = r'\\w+[aeiou]\\b'\n",
    "\n",
    "re.findall(regexp, subject)"
   ]
  },
  {
   "cell_type": "code",
   "execution_count": 67,
   "id": "9203e788-3e20-447c-af87-24b2629a70a4",
   "metadata": {},
   "outputs": [
    {
     "data": {
      "text/plain": [
       "'kiwi aardvark banana codeup data science academy extra'"
      ]
     },
     "execution_count": 67,
     "metadata": {},
     "output_type": "execute_result"
    }
   ],
   "source": [
    "subject"
   ]
  },
  {
   "cell_type": "code",
   "execution_count": 68,
   "id": "d4d78c15-d8fe-418d-96de-f59baf48f84b",
   "metadata": {},
   "outputs": [
    {
     "data": {
      "text/plain": [
       "['extra']"
      ]
     },
     "execution_count": 68,
     "metadata": {},
     "output_type": "execute_result"
    }
   ],
   "source": [
    "regexp = r'\\w+[aeiou]$'\n",
    "\n",
    "re.findall(regexp, subject)"
   ]
  },
  {
   "cell_type": "code",
   "execution_count": 69,
   "id": "f00a0039-d14b-408c-bcb2-54ef5162fe35",
   "metadata": {},
   "outputs": [
    {
     "data": {
      "text/plain": [
       "'kiwi aardvark banana codeup data science academy extra'"
      ]
     },
     "execution_count": 69,
     "metadata": {},
     "output_type": "execute_result"
    }
   ],
   "source": [
    "subject"
   ]
  },
  {
   "cell_type": "code",
   "execution_count": 70,
   "id": "4e73e36d-bcae-4156-88f7-86d16b5f7d42",
   "metadata": {},
   "outputs": [
    {
     "data": {
      "text/plain": [
       "['kiwi', 'aardvark']"
      ]
     },
     "execution_count": 70,
     "metadata": {},
     "output_type": "execute_result"
    }
   ],
   "source": [
    "regexp = r'[ka][ia]\\w+'\n",
    "\n",
    "re.findall(regexp, subject)"
   ]
  },
  {
   "cell_type": "code",
   "execution_count": 71,
   "id": "88119c51-2aed-48d0-a0e9-3053ad8a95c2",
   "metadata": {},
   "outputs": [
    {
     "data": {
      "text/plain": [
       "['i ']"
      ]
     },
     "execution_count": 71,
     "metadata": {},
     "output_type": "execute_result"
    }
   ],
   "source": [
    "regexp = r'i |j '\n",
    "\n",
    "re.findall(regexp, subject)"
   ]
  },
  {
   "cell_type": "markdown",
   "id": "648219a2",
   "metadata": {},
   "source": [
    "<div class='alert alert-block alert-warning'>\n",
    "\n",
    "<b>Mini Exercise</b>\n",
    "    \n",
    "Write regular expressions to find the following values\n",
    "\n",
    "- Find any even digits (regardless if its apart of a bigger number)\n",
    "- Find entire numbers that are even\n",
    "- Find 2 or more odd digits in a row.\n",
    "- Find all the capital letters\n",
    "- Find all words that start with a capital letter\n",
    "    \n",
    "<\\div>"
   ]
  },
  {
   "cell_type": "code",
   "execution_count": 72,
   "id": "fe357c91",
   "metadata": {},
   "outputs": [
    {
     "data": {
      "text/plain": [
       "'Codeup, founded in 2014, is located at 600 Navarro St. Suite 350, San Antonio, TX 78230. tagline: \"launch your career in tech!\" You can find us online at http://codeup.com and our alumni portal is located at https://alumni.codeup.comand \"codeup is a great school\"!'"
      ]
     },
     "execution_count": 72,
     "metadata": {},
     "output_type": "execute_result"
    }
   ],
   "source": [
    "subject = '''\n",
    "Codeup, founded in 2014, is located at 600 Navarro St. \n",
    "Suite 350, San Antonio, TX 78230. \n",
    "tagline: \"launch your career in tech!\" \n",
    "You can find us online at http://codeup.com \n",
    "and our alumni portal is located at https://alumni.codeup.com\n",
    "and \"codeup is a great school\"!\n",
    "'''\n",
    "\n",
    "subject = subject.replace('\\n','')\n",
    "subject"
   ]
  },
  {
   "cell_type": "markdown",
   "id": "d0fcf2c5",
   "metadata": {},
   "source": [
    "#### Find any even digits (regardless if its apart of a bigger number)"
   ]
  },
  {
   "cell_type": "code",
   "execution_count": 73,
   "id": "4b551d6d",
   "metadata": {},
   "outputs": [
    {
     "data": {
      "text/plain": [
       "['2', '0', '4', '6', '0', '0', '0', '8', '2', '0']"
      ]
     },
     "execution_count": 73,
     "metadata": {},
     "output_type": "execute_result"
    }
   ],
   "source": [
    "regexp = r'[24680]'\n",
    "\n",
    "re.findall(regexp, subject)"
   ]
  },
  {
   "cell_type": "markdown",
   "id": "d6380fd5",
   "metadata": {},
   "source": [
    "#### Find entire numbers that are even"
   ]
  },
  {
   "cell_type": "code",
   "execution_count": 74,
   "id": "c5f986d7",
   "metadata": {},
   "outputs": [
    {
     "data": {
      "text/plain": [
       "['2014', '600', '350', '78230']"
      ]
     },
     "execution_count": 74,
     "metadata": {},
     "output_type": "execute_result"
    }
   ],
   "source": [
    "regexp = r'\\d*[24680]\\b'\n",
    "\n",
    "re.findall(regexp, subject)"
   ]
  },
  {
   "cell_type": "markdown",
   "id": "e3308bc3",
   "metadata": {},
   "source": [
    "#### Find 2 or more odd digits in a row (regardless if its apart of a bigger number)"
   ]
  },
  {
   "cell_type": "code",
   "execution_count": 75,
   "id": "23742a6d",
   "metadata": {},
   "outputs": [
    {
     "data": {
      "text/plain": [
       "['35']"
      ]
     },
     "execution_count": 75,
     "metadata": {},
     "output_type": "execute_result"
    }
   ],
   "source": [
    "regexp = r'[13579][13579]'\n",
    "\n",
    "re.findall(regexp, subject)"
   ]
  },
  {
   "cell_type": "code",
   "execution_count": 76,
   "id": "7514900e-5a8f-48f8-882e-4b2307d7fff3",
   "metadata": {},
   "outputs": [
    {
     "data": {
      "text/plain": [
       "['35']"
      ]
     },
     "execution_count": 76,
     "metadata": {},
     "output_type": "execute_result"
    }
   ],
   "source": [
    "regexp = r'[13579]{2,}'\n",
    "\n",
    "re.findall(regexp, subject)"
   ]
  },
  {
   "cell_type": "markdown",
   "id": "3ef75711",
   "metadata": {},
   "source": [
    "#### Find all the capital letters"
   ]
  },
  {
   "cell_type": "code",
   "execution_count": 77,
   "id": "d17d66e6",
   "metadata": {},
   "outputs": [
    {
     "data": {
      "text/plain": [
       "['C', 'N', 'S', 'S', 'S', 'A', 'T', 'X', 'Y']"
      ]
     },
     "execution_count": 77,
     "metadata": {},
     "output_type": "execute_result"
    }
   ],
   "source": [
    "regexp = r'[A-Z]'\n",
    "\n",
    "re.findall(regexp, subject)"
   ]
  },
  {
   "cell_type": "markdown",
   "id": "b1291798",
   "metadata": {},
   "source": [
    "#### Find all words that start with a capital letter"
   ]
  },
  {
   "cell_type": "code",
   "execution_count": 78,
   "id": "55a669ce",
   "metadata": {},
   "outputs": [
    {
     "data": {
      "text/plain": [
       "['Codeup', 'Navarro', 'St', 'Suite', 'San', 'Antonio', 'TX', 'You']"
      ]
     },
     "execution_count": 78,
     "metadata": {},
     "output_type": "execute_result"
    }
   ],
   "source": [
    "regexp = r'[A-Z]\\w+'\n",
    "\n",
    "re.findall(regexp, subject)"
   ]
  },
  {
   "cell_type": "markdown",
   "id": "a7666710",
   "metadata": {},
   "source": [
    "### Capture Groups"
   ]
  },
  {
   "cell_type": "markdown",
   "id": "20c988e9",
   "metadata": {},
   "source": [
    "<div class='alert alert-info'>\n",
    "    \n",
    "- `()`: grab what's contained in parentheses \n",
    "    \n",
    "</div> "
   ]
  },
  {
   "cell_type": "code",
   "execution_count": 79,
   "id": "ed296c97",
   "metadata": {},
   "outputs": [
    {
     "data": {
      "text/plain": [
       "'\\n    You can find us on the web at https://codeup.com. Our ip address is 123.897.123.123 (maybe).\\n    '"
      ]
     },
     "execution_count": 79,
     "metadata": {},
     "output_type": "execute_result"
    }
   ],
   "source": [
    "subject = '''\n",
    "    You can find us on the web at https://codeup.com. Our ip address is 123.897.123.123 (maybe).\n",
    "    '''\n",
    "subject"
   ]
  },
  {
   "cell_type": "markdown",
   "id": "736371b4",
   "metadata": {},
   "source": [
    "#### find the domain only"
   ]
  },
  {
   "cell_type": "code",
   "execution_count": 80,
   "id": "d6c5a9b8",
   "metadata": {},
   "outputs": [
    {
     "data": {
      "text/plain": [
       "['codeup']"
      ]
     },
     "execution_count": 80,
     "metadata": {},
     "output_type": "execute_result"
    }
   ],
   "source": [
    "regexp = r'https?://(.+).com'\n",
    "\n",
    "re.findall(regexp, subject)"
   ]
  },
  {
   "cell_type": "markdown",
   "id": "dc23cc3a",
   "metadata": {},
   "source": [
    "#### find everything after the first sentence"
   ]
  },
  {
   "cell_type": "code",
   "execution_count": 81,
   "id": "126f4241",
   "metadata": {},
   "outputs": [
    {
     "data": {
      "text/plain": [
       "['Our ip address is 123.897.123.123 (maybe).']"
      ]
     },
     "execution_count": 81,
     "metadata": {},
     "output_type": "execute_result"
    }
   ],
   "source": [
    "regexp = r'\\.\\s(.+)'\n",
    "\n",
    "re.findall(regexp, subject)"
   ]
  },
  {
   "cell_type": "markdown",
   "id": "7977b786",
   "metadata": {},
   "source": [
    "#### find the ip address"
   ]
  },
  {
   "cell_type": "code",
   "execution_count": 82,
   "id": "3eb8cec9",
   "metadata": {},
   "outputs": [
    {
     "data": {
      "text/plain": [
       "['123.897.123.123 (maybe).']"
      ]
     },
     "execution_count": 82,
     "metadata": {},
     "output_type": "execute_result"
    }
   ],
   "source": [
    "regexp = r'Our ip address is (.+)\\s'\n",
    "\n",
    "re.findall(regexp, subject)"
   ]
  },
  {
   "cell_type": "code",
   "execution_count": 83,
   "id": "45d4f78e",
   "metadata": {},
   "outputs": [
    {
     "data": {
      "text/plain": [
       "['123.897.123.123']"
      ]
     },
     "execution_count": 83,
     "metadata": {},
     "output_type": "execute_result"
    }
   ],
   "source": [
    "#dont be greedy\n",
    "regexp = r'Our ip address is (.+?)\\s'\n",
    "\n",
    "re.findall(regexp, subject)"
   ]
  },
  {
   "cell_type": "code",
   "execution_count": 84,
   "id": "7957633f",
   "metadata": {},
   "outputs": [
    {
     "data": {
      "text/plain": [
       "[('123.897.123.123', '123.')]"
      ]
     },
     "execution_count": 84,
     "metadata": {},
     "output_type": "execute_result"
    }
   ],
   "source": [
    "regexp = r'((\\d{3}\\.){3}\\d{3})'\n",
    "\n",
    "re.findall(regexp, subject)"
   ]
  },
  {
   "cell_type": "markdown",
   "id": "5eeb0842",
   "metadata": {},
   "source": [
    "### Non Capture Group"
   ]
  },
  {
   "cell_type": "markdown",
   "id": "dddb184c",
   "metadata": {},
   "source": [
    "<div class='alert alert-info'>\n",
    "\n",
    "- `?:`: to ignore a capture group also called shy\n",
    "    \n",
    "</div>"
   ]
  },
  {
   "cell_type": "markdown",
   "id": "4715e4cc",
   "metadata": {},
   "source": [
    "#### find the ip address"
   ]
  },
  {
   "cell_type": "code",
   "execution_count": 85,
   "id": "71be2c9d",
   "metadata": {},
   "outputs": [
    {
     "data": {
      "text/plain": [
       "['123.897.123.123']"
      ]
     },
     "execution_count": 85,
     "metadata": {},
     "output_type": "execute_result"
    }
   ],
   "source": [
    "regexp = r'((?:\\d{3}\\.){3}\\d{3})'\n",
    "\n",
    "re.findall(regexp, subject)"
   ]
  },
  {
   "cell_type": "markdown",
   "id": "3a15fe92",
   "metadata": {},
   "source": [
    "## more re library functions"
   ]
  },
  {
   "cell_type": "markdown",
   "id": "0cf24404",
   "metadata": {},
   "source": [
    "### `re.search`"
   ]
  },
  {
   "cell_type": "markdown",
   "id": "4aedbdb6",
   "metadata": {},
   "source": [
    "- scans through a string, looking for any location where the RE matches; returns match object"
   ]
  },
  {
   "cell_type": "code",
   "execution_count": 86,
   "id": "24afcc45",
   "metadata": {},
   "outputs": [],
   "source": [
    "subject = \"\"\"\n",
    "    Codeup, founded in 2014, is located at 600 Navarro St. Suite 350, \n",
    "    San Antonio, TX 78230. \n",
    "    You can find us online at http://codeup.com and\n",
    "    our alumni portal is located at https://alumni.codeup.com.\n",
    "    \"\"\""
   ]
  },
  {
   "cell_type": "markdown",
   "id": "9cfb5739",
   "metadata": {},
   "source": [
    "#### find the word located"
   ]
  },
  {
   "cell_type": "code",
   "execution_count": 87,
   "id": "31bc94cd",
   "metadata": {},
   "outputs": [
    {
     "data": {
      "text/plain": [
       "<re.Match object; span=(33, 40), match='located'>"
      ]
     },
     "execution_count": 87,
     "metadata": {},
     "output_type": "execute_result"
    }
   ],
   "source": [
    "#save the match result\n",
    "regexp = r'located'\n",
    "\n",
    "match = re.search(regexp, subject)\n",
    "match"
   ]
  },
  {
   "cell_type": "code",
   "execution_count": 88,
   "id": "3dfbd996",
   "metadata": {},
   "outputs": [
    {
     "data": {
      "text/plain": [
       "re.Match"
      ]
     },
     "execution_count": 88,
     "metadata": {},
     "output_type": "execute_result"
    }
   ],
   "source": [
    "#results type\n",
    "type(match)"
   ]
  },
  {
   "cell_type": "code",
   "execution_count": 89,
   "id": "f87e11e6",
   "metadata": {},
   "outputs": [
    {
     "data": {
      "text/plain": [
       "(33, 40)"
      ]
     },
     "execution_count": 89,
     "metadata": {},
     "output_type": "execute_result"
    }
   ],
   "source": [
    "#.span()\n",
    "match.span()"
   ]
  },
  {
   "cell_type": "code",
   "execution_count": 90,
   "id": "8c020ae4-0ea2-4b6a-9a03-8f5e236b01cb",
   "metadata": {},
   "outputs": [
    {
     "data": {
      "text/plain": [
       "'located'"
      ]
     },
     "execution_count": 90,
     "metadata": {},
     "output_type": "execute_result"
    }
   ],
   "source": [
    "match[0]"
   ]
  },
  {
   "cell_type": "code",
   "execution_count": 91,
   "id": "6a4b93c4",
   "metadata": {},
   "outputs": [
    {
     "data": {
      "text/plain": [
       "'located'"
      ]
     },
     "execution_count": 91,
     "metadata": {},
     "output_type": "execute_result"
    }
   ],
   "source": [
    "#.group()\n",
    "match.group()"
   ]
  },
  {
   "cell_type": "markdown",
   "id": "450a1998",
   "metadata": {},
   "source": [
    "#### find numbers"
   ]
  },
  {
   "cell_type": "code",
   "execution_count": 92,
   "id": "95e14c21",
   "metadata": {},
   "outputs": [
    {
     "data": {
      "text/plain": [
       "<re.Match object; span=(24, 28), match='2014'>"
      ]
     },
     "execution_count": 92,
     "metadata": {},
     "output_type": "execute_result"
    }
   ],
   "source": [
    "regexp = r'\\d+'\n",
    "\n",
    "re.search(regexp, subject)"
   ]
  },
  {
   "cell_type": "markdown",
   "id": "90850d8d",
   "metadata": {},
   "source": [
    "#### find navarro"
   ]
  },
  {
   "cell_type": "code",
   "execution_count": 93,
   "id": "e5299598",
   "metadata": {},
   "outputs": [],
   "source": [
    "regexp = r'navarro'\n",
    "\n",
    "re.search(regexp, subject)"
   ]
  },
  {
   "cell_type": "code",
   "execution_count": 94,
   "id": "e0be8eef",
   "metadata": {},
   "outputs": [
    {
     "data": {
      "text/plain": [
       "NoneType"
      ]
     },
     "execution_count": 94,
     "metadata": {},
     "output_type": "execute_result"
    }
   ],
   "source": [
    "#results type\n",
    "type(re.search(regexp, subject))"
   ]
  },
  {
   "cell_type": "markdown",
   "id": "2c20bb13",
   "metadata": {},
   "source": [
    "### Name Capture Group"
   ]
  },
  {
   "cell_type": "markdown",
   "id": "7b485bf6",
   "metadata": {},
   "source": [
    "- `?P`: to name a capture group"
   ]
  },
  {
   "cell_type": "code",
   "execution_count": 95,
   "id": "25c4ebc3",
   "metadata": {},
   "outputs": [],
   "source": [
    "subject = '''\n",
    "    You can find us on the web at https://codeup.com. Our ip address is 123.123.123.123 (maybe).\n",
    "    '''"
   ]
  },
  {
   "cell_type": "markdown",
   "id": "6c15f95e",
   "metadata": {},
   "source": [
    "#### find the protocol, domain, and tld and name them"
   ]
  },
  {
   "cell_type": "code",
   "execution_count": 96,
   "id": "ee9fcd72",
   "metadata": {},
   "outputs": [
    {
     "data": {
      "text/plain": [
       "<re.Match object; span=(35, 53), match='https://codeup.com'>"
      ]
     },
     "execution_count": 96,
     "metadata": {},
     "output_type": "execute_result"
    }
   ],
   "source": [
    "regexp = r'(?P<protocol>http?s*)://(?P<domain>\\w+)\\.(?P<tld>\\w+)'\n",
    "\n",
    "match = re.search(regexp, subject)\n",
    "match"
   ]
  },
  {
   "cell_type": "code",
   "execution_count": 97,
   "id": "acc896dc",
   "metadata": {},
   "outputs": [
    {
     "data": {
      "text/plain": [
       "('https', 'codeup', 'com')"
      ]
     },
     "execution_count": 97,
     "metadata": {},
     "output_type": "execute_result"
    }
   ],
   "source": [
    "#groups()\n",
    "match.groups()"
   ]
  },
  {
   "cell_type": "code",
   "execution_count": 98,
   "id": "69d4266b",
   "metadata": {},
   "outputs": [
    {
     "data": {
      "text/plain": [
       "{'protocol': 'https', 'domain': 'codeup', 'tld': 'com'}"
      ]
     },
     "execution_count": 98,
     "metadata": {},
     "output_type": "execute_result"
    }
   ],
   "source": [
    "#groupdict()\n",
    "match.groupdict()"
   ]
  },
  {
   "cell_type": "markdown",
   "id": "5495c93a",
   "metadata": {},
   "source": [
    "##### regex flag:  `re.VERBOSE`"
   ]
  },
  {
   "cell_type": "markdown",
   "id": "eafbbdc3",
   "metadata": {},
   "source": [
    "- `re.VERBOSE` will ignore whitespace in regex pattern"
   ]
  },
  {
   "cell_type": "code",
   "execution_count": 99,
   "id": "114f71fb",
   "metadata": {},
   "outputs": [
    {
     "data": {
      "text/plain": [
       "<re.Match object; span=(35, 53), match='https://codeup.com'>"
      ]
     },
     "execution_count": 99,
     "metadata": {},
     "output_type": "execute_result"
    }
   ],
   "source": [
    "regexp = r'''\n",
    "            (?P<protocol>http?s*)://\n",
    "            (?P<domain>\\w+)\\.\n",
    "            (?P<tld>\\w+)\n",
    "            '''\n",
    "match = re.search(regexp, subject, re.VERBOSE)\n",
    "match"
   ]
  },
  {
   "cell_type": "markdown",
   "id": "c7acfdab",
   "metadata": {},
   "source": [
    "### `re.sub(pattern, repl, string,)`"
   ]
  },
  {
   "cell_type": "markdown",
   "id": "f5c4b353",
   "metadata": {},
   "source": [
    "- allows us to match a regex and substitute in a new substring for the match; returns string"
   ]
  },
  {
   "cell_type": "code",
   "execution_count": 100,
   "id": "f7880a5e",
   "metadata": {},
   "outputs": [],
   "source": [
    "subject = 'abc 12345xyz345'"
   ]
  },
  {
   "cell_type": "markdown",
   "id": "d03e8044",
   "metadata": {},
   "source": [
    "#### remove all the digits"
   ]
  },
  {
   "cell_type": "code",
   "execution_count": 101,
   "id": "2a898e60",
   "metadata": {},
   "outputs": [
    {
     "data": {
      "text/plain": [
       "'abc xyz'"
      ]
     },
     "execution_count": 101,
     "metadata": {},
     "output_type": "execute_result"
    }
   ],
   "source": [
    "regexp = r'\\d'\n",
    "\n",
    "re.sub(regexp, '', subject)"
   ]
  },
  {
   "cell_type": "markdown",
   "id": "fae4c350",
   "metadata": {},
   "source": [
    "#### replace all digits with an o "
   ]
  },
  {
   "cell_type": "code",
   "execution_count": 102,
   "id": "17ebba7c",
   "metadata": {},
   "outputs": [
    {
     "data": {
      "text/plain": [
       "'abc oooooxyzooo'"
      ]
     },
     "execution_count": 102,
     "metadata": {},
     "output_type": "execute_result"
    }
   ],
   "source": [
    "regexp = r'\\d'\n",
    "\n",
    "re.sub(regexp, 'o',subject)"
   ]
  },
  {
   "cell_type": "markdown",
   "id": "da953bbe",
   "metadata": {},
   "source": [
    "#### replace all the digit (groups) with a single *"
   ]
  },
  {
   "cell_type": "code",
   "execution_count": 103,
   "id": "8ec2b818",
   "metadata": {},
   "outputs": [
    {
     "data": {
      "text/plain": [
       "'abc *xyz*'"
      ]
     },
     "execution_count": 103,
     "metadata": {},
     "output_type": "execute_result"
    }
   ],
   "source": [
    "regexp = r'\\d+'\n",
    "\n",
    "re.sub(regexp, '*', subject)"
   ]
  },
  {
   "cell_type": "markdown",
   "id": "d74c3815",
   "metadata": {},
   "source": [
    "#### Using regex with a str.replace, add regex=True arguement"
   ]
  },
  {
   "cell_type": "code",
   "execution_count": 104,
   "id": "850f294a",
   "metadata": {},
   "outputs": [
    {
     "data": {
      "text/plain": [
       "0          k***w***\n",
       "1    ******rdv***rk\n",
       "2      b***n***n***\n",
       "3      c***d******p\n",
       "4          d***t***\n",
       "5     sc******nc***\n",
       "6     ***c***d***my\n",
       "7         ***xtr***\n",
       "dtype: object"
      ]
     },
     "execution_count": 104,
     "metadata": {},
     "output_type": "execute_result"
    }
   ],
   "source": [
    "pd.Series(subjects).str.replace(r'[aeiou]','***', regex=True)"
   ]
  },
  {
   "cell_type": "markdown",
   "id": "9ba42c76",
   "metadata": {},
   "source": [
    "### `re.compile`"
   ]
  },
  {
   "cell_type": "markdown",
   "id": "d29ab2ff",
   "metadata": {},
   "source": [
    "- prepare a regular expression for use ahead of time, returns expression"
   ]
  },
  {
   "cell_type": "code",
   "execution_count": 105,
   "id": "50978711",
   "metadata": {},
   "outputs": [],
   "source": [
    "emails = [\n",
    "    \"jane@company.com\",\n",
    "    \"bob@company.com\",\n",
    "    \"jane.janeway@company.com\",\n",
    "    \"jane.janeway@dogood.org\",\n",
    "    \"jane.janet.janeway@dogood.org\", # bonus for the 3 part address\n",
    "]"
   ]
  },
  {
   "cell_type": "markdown",
   "id": "4de535d7",
   "metadata": {},
   "source": [
    "#### get name, domain, tld"
   ]
  },
  {
   "cell_type": "code",
   "execution_count": 106,
   "id": "b50d02dd",
   "metadata": {},
   "outputs": [
    {
     "name": "stdout",
     "output_type": "stream",
     "text": [
      "[('jane', 'company', 'com')]\n",
      "[('bob', 'company', 'com')]\n",
      "[('jane.janeway', 'company', 'com')]\n",
      "[('jane.janeway', 'dogood', 'org')]\n",
      "[('janet.janeway', 'dogood', 'org')]\n"
     ]
    }
   ],
   "source": [
    "regexp = r'(\\w+\\.*\\w+)@(\\w+)\\.(\\w+)'\n",
    "\n",
    "for email in emails:\n",
    "    print(re.findall(regexp, email))"
   ]
  },
  {
   "cell_type": "code",
   "execution_count": 107,
   "id": "a761756f",
   "metadata": {},
   "outputs": [
    {
     "data": {
      "text/plain": [
       "re.compile(r'\\n        (?P<name>\\w+\\.*\\w+)@\\n        (?P<domain>\\w+)\\.\\n        (?P<tld>\\w+)\\n        ',\n",
       "           re.UNICODE|re.VERBOSE)"
      ]
     },
     "execution_count": 107,
     "metadata": {},
     "output_type": "execute_result"
    }
   ],
   "source": [
    "pattern = re.compile(r'''\n",
    "        (?P<name>\\w+\\.*\\w+)@\n",
    "        (?P<domain>\\w+)\\.\n",
    "        (?P<tld>\\w+)\n",
    "        ''', re.VERBOSE)\n",
    "pattern"
   ]
  },
  {
   "cell_type": "code",
   "execution_count": 108,
   "id": "91387b2e",
   "metadata": {},
   "outputs": [
    {
     "data": {
      "text/plain": [
       "[{'name': 'jane', 'domain': 'company', 'tld': 'com'},\n",
       " {'name': 'bob', 'domain': 'company', 'tld': 'com'},\n",
       " {'name': 'jane.janeway', 'domain': 'company', 'tld': 'com'},\n",
       " {'name': 'jane.janeway', 'domain': 'dogood', 'tld': 'org'},\n",
       " {'name': 'janet.janeway', 'domain': 'dogood', 'tld': 'org'}]"
      ]
     },
     "execution_count": 108,
     "metadata": {},
     "output_type": "execute_result"
    }
   ],
   "source": [
    "contacts = [re.search(pattern,email).groupdict() for email in emails]\n",
    "contacts"
   ]
  },
  {
   "cell_type": "code",
   "execution_count": 109,
   "id": "1be08db5",
   "metadata": {},
   "outputs": [
    {
     "data": {
      "text/html": [
       "<div>\n",
       "<style scoped>\n",
       "    .dataframe tbody tr th:only-of-type {\n",
       "        vertical-align: middle;\n",
       "    }\n",
       "\n",
       "    .dataframe tbody tr th {\n",
       "        vertical-align: top;\n",
       "    }\n",
       "\n",
       "    .dataframe thead th {\n",
       "        text-align: right;\n",
       "    }\n",
       "</style>\n",
       "<table border=\"1\" class=\"dataframe\">\n",
       "  <thead>\n",
       "    <tr style=\"text-align: right;\">\n",
       "      <th></th>\n",
       "      <th>name</th>\n",
       "      <th>domain</th>\n",
       "      <th>tld</th>\n",
       "    </tr>\n",
       "  </thead>\n",
       "  <tbody>\n",
       "    <tr>\n",
       "      <th>0</th>\n",
       "      <td>jane</td>\n",
       "      <td>company</td>\n",
       "      <td>com</td>\n",
       "    </tr>\n",
       "    <tr>\n",
       "      <th>1</th>\n",
       "      <td>bob</td>\n",
       "      <td>company</td>\n",
       "      <td>com</td>\n",
       "    </tr>\n",
       "    <tr>\n",
       "      <th>2</th>\n",
       "      <td>jane.janeway</td>\n",
       "      <td>company</td>\n",
       "      <td>com</td>\n",
       "    </tr>\n",
       "    <tr>\n",
       "      <th>3</th>\n",
       "      <td>jane.janeway</td>\n",
       "      <td>dogood</td>\n",
       "      <td>org</td>\n",
       "    </tr>\n",
       "    <tr>\n",
       "      <th>4</th>\n",
       "      <td>janet.janeway</td>\n",
       "      <td>dogood</td>\n",
       "      <td>org</td>\n",
       "    </tr>\n",
       "  </tbody>\n",
       "</table>\n",
       "</div>"
      ],
      "text/plain": [
       "            name   domain  tld\n",
       "0           jane  company  com\n",
       "1            bob  company  com\n",
       "2   jane.janeway  company  com\n",
       "3   jane.janeway   dogood  org\n",
       "4  janet.janeway   dogood  org"
      ]
     },
     "execution_count": 109,
     "metadata": {},
     "output_type": "execute_result"
    }
   ],
   "source": [
    "pd.DataFrame(contacts)"
   ]
  },
  {
   "cell_type": "markdown",
   "id": "bf4f9562",
   "metadata": {},
   "source": [
    "# Recap"
   ]
  },
  {
   "cell_type": "markdown",
   "id": "784e7b1d",
   "metadata": {},
   "source": [
    "re functions\n",
    "- `re.findall()`:finds all substrings where the REGEX matches, returns a list\n",
    "- `re.search()`: scans through a string, looking for any location where the RE matches; returns match object\n",
    "    - `match.span()`\n",
    "    - `match.group()`\n",
    "    - `match.groups()`\n",
    "    - `match.groupdict()`\n",
    "- `re.sub()`:allows us to match a regex and substitute in a new substring for the match; returns string\n",
    "- `re.compile()`:prepare a regular expression for use ahead of time, returns expression\n",
    "\n",
    "flags\n",
    "- `re.IGNORECASE`: ignore case\n",
    "- `re.VERBOSE`: ignore whitespace\n",
    "\n",
    "\n",
    "\n",
    "Metacharacters\n",
    "- `\\w`: any letter or digit\n",
    "- `\\W`: anything that is *not* a letter or digit\n",
    "- `\\d`: any digit\n",
    "- `\\D`: anything that is *not* a digit\n",
    "- `\\s` : any whitespace\n",
    "-  `.` : anything\n",
    "\n",
    "\n",
    "Repeating\n",
    "\n",
    "- `{}`: custom number of repetitions\n",
    "    - `{x}`: exactly x repetitions\n",
    "    - `{x,}`: x or more\n",
    "    - `{x,y}`: between x and y repetitions\n",
    "\n",
    "- `*`: zero or more\n",
    "- `+`: one or more\n",
    "- `?`: optional / greedy\n",
    "\n",
    "\n",
    "Any/None\n",
    "\n",
    "- `[]`: will match anything inside of\n",
    "- `[^]`: will match anything NOT inside of\n",
    "- `[-]`: will match a range of values inside of\n",
    "\n",
    "\n",
    "Capture Groups\n",
    "\n",
    "- `()`: grab what's contained in parentheses \n",
    "- `?:`: to ignore a capture group also called shy\n",
    "- `?P`: to name a capture group\n",
    "\n",
    "\n",
    "Other\n",
    "- `\\`: escape character\n",
    "    \n",
    "\n",
    "\n"
   ]
  }
 ],
 "metadata": {
  "kernelspec": {
   "display_name": "Python 3 (ipykernel)",
   "language": "python",
   "name": "python3"
  },
  "language_info": {
   "codemirror_mode": {
    "name": "ipython",
    "version": 3
   },
   "file_extension": ".py",
   "mimetype": "text/x-python",
   "name": "python",
   "nbconvert_exporter": "python",
   "pygments_lexer": "ipython3",
   "version": "3.9.12"
  }
 },
 "nbformat": 4,
 "nbformat_minor": 5
}
