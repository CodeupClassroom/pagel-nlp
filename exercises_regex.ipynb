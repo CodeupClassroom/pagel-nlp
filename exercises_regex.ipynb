{
 "cells": [
  {
   "cell_type": "code",
   "execution_count": 2,
   "id": "47da2b8d",
   "metadata": {},
   "outputs": [],
   "source": [
    "import pandas as pd\n",
    "import re"
   ]
  },
  {
   "cell_type": "markdown",
   "id": "d27f9696",
   "metadata": {},
   "source": [
    "#### Write a function named is_vowel. It should accept a string as input and use a regular expression to determine if the passed string is a vowel. While not explicity mentioned in the lesson, you can treat the result of re.search as a boolean value that indicates whether or not the regular expression matches the given string."
   ]
  },
  {
   "cell_type": "code",
   "execution_count": 35,
   "id": "0b2b351c",
   "metadata": {},
   "outputs": [],
   "source": [
    "def is_vowel(string):\n",
    "    return bool(re.search(r'^[aeiou]$', string, re.IGNORECASE))"
   ]
  },
  {
   "cell_type": "code",
   "execution_count": 38,
   "id": "44e06385",
   "metadata": {},
   "outputs": [
    {
     "data": {
      "text/plain": [
       "True"
      ]
     },
     "execution_count": 38,
     "metadata": {},
     "output_type": "execute_result"
    }
   ],
   "source": [
    "is_vowel('a')"
   ]
  },
  {
   "cell_type": "code",
   "execution_count": 39,
   "id": "ec018303",
   "metadata": {},
   "outputs": [
    {
     "data": {
      "text/plain": [
       "False"
      ]
     },
     "execution_count": 39,
     "metadata": {},
     "output_type": "execute_result"
    }
   ],
   "source": [
    "is_vowel('apple')"
   ]
  },
  {
   "cell_type": "code",
   "execution_count": 40,
   "id": "2114e36e",
   "metadata": {},
   "outputs": [
    {
     "data": {
      "text/plain": [
       "False"
      ]
     },
     "execution_count": 40,
     "metadata": {},
     "output_type": "execute_result"
    }
   ],
   "source": [
    "is_vowel('aaaaaa')"
   ]
  },
  {
   "cell_type": "code",
   "execution_count": 41,
   "id": "bd8d6a15",
   "metadata": {},
   "outputs": [
    {
     "data": {
      "text/plain": [
       "False"
      ]
     },
     "execution_count": 41,
     "metadata": {},
     "output_type": "execute_result"
    }
   ],
   "source": [
    "is_vowel('b')"
   ]
  },
  {
   "cell_type": "code",
   "execution_count": 42,
   "id": "3b3257ba",
   "metadata": {},
   "outputs": [
    {
     "data": {
      "text/plain": [
       "True"
      ]
     },
     "execution_count": 42,
     "metadata": {},
     "output_type": "execute_result"
    }
   ],
   "source": [
    "is_vowel('A')"
   ]
  },
  {
   "cell_type": "markdown",
   "id": "7eb8f447",
   "metadata": {},
   "source": [
    "#### Write a function named is_valid_username that accepts a string as input. A valid username starts with a lowercase letter, and only consists of lowercase letters, numbers, or the _ character. It should also be no longer than 32 characters. The function should return either True or False depending on whether the passed string is a valid username."
   ]
  },
  {
   "cell_type": "code",
   "execution_count": 100,
   "id": "7e88a756",
   "metadata": {},
   "outputs": [],
   "source": [
    "def is_valid_username(string):\n",
    "    return bool(re.search(r'^[a-z][a-z0-9_]{0,31}$', string))"
   ]
  },
  {
   "cell_type": "code",
   "execution_count": 101,
   "id": "d92f44b2",
   "metadata": {},
   "outputs": [
    {
     "data": {
      "text/plain": [
       "False"
      ]
     },
     "execution_count": 101,
     "metadata": {},
     "output_type": "execute_result"
    }
   ],
   "source": [
    "is_valid_username('aaaaaaaaaaaaaaaaaaaaaaaaaaaaaaaaa') "
   ]
  },
  {
   "cell_type": "code",
   "execution_count": 103,
   "id": "966d705a",
   "metadata": {},
   "outputs": [
    {
     "data": {
      "text/plain": [
       "True"
      ]
     },
     "execution_count": 103,
     "metadata": {},
     "output_type": "execute_result"
    }
   ],
   "source": [
    "is_valid_username('codeup')"
   ]
  },
  {
   "cell_type": "code",
   "execution_count": 104,
   "id": "f5e32a4b",
   "metadata": {},
   "outputs": [
    {
     "data": {
      "text/plain": [
       "False"
      ]
     },
     "execution_count": 104,
     "metadata": {},
     "output_type": "execute_result"
    }
   ],
   "source": [
    "is_valid_username('Codeup')"
   ]
  },
  {
   "cell_type": "code",
   "execution_count": 105,
   "id": "15d6c62d",
   "metadata": {},
   "outputs": [
    {
     "data": {
      "text/plain": [
       "True"
      ]
     },
     "execution_count": 105,
     "metadata": {},
     "output_type": "execute_result"
    }
   ],
   "source": [
    "is_valid_username('codeup123')"
   ]
  },
  {
   "cell_type": "code",
   "execution_count": 106,
   "id": "d022c6b5",
   "metadata": {},
   "outputs": [
    {
     "data": {
      "text/plain": [
       "False"
      ]
     },
     "execution_count": 106,
     "metadata": {},
     "output_type": "execute_result"
    }
   ],
   "source": [
    "is_valid_username('1codeup')"
   ]
  },
  {
   "cell_type": "markdown",
   "id": "78bfe31a",
   "metadata": {},
   "source": [
    "#### Write a regular expression to capture phone numbers. It should match all of the following:"
   ]
  },
  {
   "cell_type": "code",
   "execution_count": 108,
   "id": "7200fb4e",
   "metadata": {},
   "outputs": [
    {
     "data": {
      "text/plain": [
       "['(210) 867 5309', '+1 210.867.5309', '867-5309', '210-867-5309']"
      ]
     },
     "execution_count": 108,
     "metadata": {},
     "output_type": "execute_result"
    }
   ],
   "source": [
    "numbers = ['(210) 867 5309',\n",
    "          '+1 210.867.5309',\n",
    "          '867-5309',\n",
    "          '210-867-5309']\n",
    "numbers"
   ]
  },
  {
   "cell_type": "code",
   "execution_count": 128,
   "id": "3f8296b9",
   "metadata": {},
   "outputs": [
    {
     "name": "stdout",
     "output_type": "stream",
     "text": [
      "['(210) 867 5309']\n",
      "['+1 210.867.5309']\n",
      "['867-5309']\n",
      "['210-867-5309']\n"
     ]
    }
   ],
   "source": [
    "for number in numbers:\n",
    "    print(re.findall(r'.+\\d+.?.\\d+.\\d+$', number))"
   ]
  },
  {
   "cell_type": "markdown",
   "id": "e21d6c76",
   "metadata": {},
   "source": [
    "#### Use regular expressions to convert the dates below to the standardized year-month-day format."
   ]
  },
  {
   "cell_type": "code",
   "execution_count": 129,
   "id": "414a7ee4",
   "metadata": {},
   "outputs": [
    {
     "data": {
      "text/plain": [
       "['02/04/19',\n",
       " '02/05/19',\n",
       " '02/06/19',\n",
       " '02/07/19',\n",
       " '02/08/19',\n",
       " '02/09/19',\n",
       " '02/10/19']"
      ]
     },
     "execution_count": 129,
     "metadata": {},
     "output_type": "execute_result"
    }
   ],
   "source": [
    "dates = [\"02/04/19\",\n",
    "         \"02/05/19\",\n",
    "         \"02/06/19\",\n",
    "         \"02/07/19\",\n",
    "         \"02/08/19\",\n",
    "         \"02/09/19\",\n",
    "         \"02/10/19\"]\n",
    "dates"
   ]
  },
  {
   "cell_type": "code",
   "execution_count": 145,
   "id": "91540564",
   "metadata": {},
   "outputs": [
    {
     "name": "stdout",
     "output_type": "stream",
     "text": [
      "2019-02-04\n",
      "2019-02-05\n",
      "2019-02-06\n",
      "2019-02-07\n",
      "2019-02-08\n",
      "2019-02-09\n",
      "2019-02-10\n"
     ]
    }
   ],
   "source": [
    "regexp = r'(\\d{2})/(\\d{2})/(\\d{2})'\n",
    "\n",
    "for date in dates:\n",
    "#     print(re.findall(regexp, date))\n",
    "    print(re.sub(regexp, r'20\\3-\\1-\\2', date))"
   ]
  },
  {
   "cell_type": "markdown",
   "id": "f29436a6",
   "metadata": {},
   "source": [
    "#### Write a regex to extract the various parts of these logfile lines:"
   ]
  },
  {
   "cell_type": "code",
   "execution_count": 147,
   "id": "57fd0d6b",
   "metadata": {},
   "outputs": [
    {
     "data": {
      "text/plain": [
       "['GET /api/v1/sales?page=86 [16/Apr/2019:193452+0000] HTTP/1.1 {200} 510348 \"python-requests/2.21.0\" 97.105.19.58',\n",
       " 'POST /users_accounts/file-upload [16/Apr/2019:193452+0000] HTTP/1.1 {201} 42 \"User-Agent: Mozilla/5.0 (X11; Fedora; Fedora; Linux x86_64) AppleWebKit/537.36 (KHTML, like Gecko) Chrome/73.0.3683.86 Safari/537.36\" 97.105.19.58',\n",
       " 'GET /api/v1/items?page=3 [16/Apr/2019:193453+0000] HTTP/1.1 {429} 3561 \"python-requests/2.21.0\" 97.105.19.58']"
      ]
     },
     "execution_count": 147,
     "metadata": {},
     "output_type": "execute_result"
    }
   ],
   "source": [
    "logs = '''\n",
    "GET /api/v1/sales?page=86 [16/Apr/2019:193452+0000] HTTP/1.1 {200} 510348 \"python-requests/2.21.0\" 97.105.19.58\n",
    "POST /users_accounts/file-upload [16/Apr/2019:193452+0000] HTTP/1.1 {201} 42 \"User-Agent: Mozilla/5.0 (X11; Fedora; Fedora; Linux x86_64) AppleWebKit/537.36 (KHTML, like Gecko) Chrome/73.0.3683.86 Safari/537.36\" 97.105.19.58\n",
    "GET /api/v1/items?page=3 [16/Apr/2019:193453+0000] HTTP/1.1 {429} 3561 \"python-requests/2.21.0\" 97.105.19.58\n",
    "'''\n",
    "\n",
    "logs = logs.strip().split('\\n')\n",
    "logs"
   ]
  },
  {
   "cell_type": "code",
   "execution_count": 169,
   "id": "21353284",
   "metadata": {},
   "outputs": [
    {
     "name": "stdout",
     "output_type": "stream",
     "text": [
      "[('GET', '/api/v1/sales?page=86', '16/Apr/2019:193452+0000', 'HTTP/1.1', '{200}', '510348', '\"python-requests/2.21.0\"', '97.105.19.58')]\n",
      "[('POST', '/users_accounts/file-upload', '16/Apr/2019:193452+0000', 'HTTP/1.1', '{201}', '42', '\"User-Agent: Mozilla/5.0 (X11; Fedora; Fedora; Linux x86_64) AppleWebKit/537.36 (KHTML, like Gecko) Chrome/73.0.3683.86 Safari/537.36\"', '97.105.19.58')]\n",
      "[('GET', '/api/v1/items?page=3', '16/Apr/2019:193453+0000', 'HTTP/1.1', '{429}', '3561', '\"python-requests/2.21.0\"', '97.105.19.58')]\n"
     ]
    }
   ],
   "source": [
    "for log in logs:\n",
    "    print(re.findall(r'([A-Z]+)\\s(.+?)\\s\\[(.+)\\]\\s(.+?)\\s(.+?)\\s(\\d+)\\s(\".+\")\\s(.+)', log))"
   ]
  },
  {
   "cell_type": "markdown",
   "id": "8c51a684",
   "metadata": {},
   "source": [
    "#### Bonus"
   ]
  },
  {
   "cell_type": "code",
   "execution_count": 170,
   "id": "07fd3eef",
   "metadata": {},
   "outputs": [],
   "source": [
    "with open('/usr/share/dict/words', 'r') as f:\n",
    "    data = f.read()\n",
    "data = data.split('\\n')"
   ]
  },
  {
   "cell_type": "code",
   "execution_count": 173,
   "id": "28aa2ea3",
   "metadata": {},
   "outputs": [],
   "source": [
    "# data"
   ]
  },
  {
   "cell_type": "code",
   "execution_count": null,
   "id": "5894f0a6",
   "metadata": {},
   "outputs": [],
   "source": []
  }
 ],
 "metadata": {
  "kernelspec": {
   "display_name": "Python 3 (ipykernel)",
   "language": "python",
   "name": "python3"
  },
  "language_info": {
   "codemirror_mode": {
    "name": "ipython",
    "version": 3
   },
   "file_extension": ".py",
   "mimetype": "text/x-python",
   "name": "python",
   "nbconvert_exporter": "python",
   "pygments_lexer": "ipython3",
   "version": "3.9.12"
  }
 },
 "nbformat": 4,
 "nbformat_minor": 5
}
