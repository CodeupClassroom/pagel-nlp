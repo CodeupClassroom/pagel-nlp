{
 "cells": [
  {
   "cell_type": "code",
   "execution_count": 2,
   "id": "206407cf",
   "metadata": {},
   "outputs": [],
   "source": [
    "#standard imports\n",
    "import pandas as pd\n",
    "import numpy as np\n",
    "\n",
    "#parsing data\n",
    "import re\n",
    "import unicodedata\n",
    "import nltk\n",
    "from nltk.corpus import stopwords\n",
    "\n",
    "#my acquire\n",
    "import acquire"
   ]
  },
  {
   "cell_type": "code",
   "execution_count": 4,
   "id": "e8184daf",
   "metadata": {},
   "outputs": [],
   "source": [
    "article = \"Paul Erdős and George Pólya were influential Hungarian mathematicians who contributed \\\n",
    "a lot to the field. Erdős's name contains the Hungarian letter 'ő' ('o' with double acute accent), \\\n",
    "but is often incorrectly written as Erdos or Erdös either by mistake or out of typographical necessity\""
   ]
  },
  {
   "cell_type": "markdown",
   "id": "34cb1da9",
   "metadata": {},
   "source": [
    "### Define a function named basic_clean. It should take in a string and apply some basic text cleaning to it:\n",
    "\n",
    "- Lowercase everything\n",
    "- Normalize unicode characters\n",
    "- Replace anything that is not a letter, number, whitespace or a single quote."
   ]
  },
  {
   "cell_type": "code",
   "execution_count": 5,
   "id": "9a69c669",
   "metadata": {},
   "outputs": [],
   "source": [
    "def basic_clean(string):\n",
    "    \n",
    "    string = string.lower() #lowercasing\n",
    "    string = unicodedata.normalize('NFKD', string).encode('ascii', 'ignore').decode('utf-8') #normalizing\n",
    "    string = re.sub(r'[^a-z0-9\\'\\s]', '', string) #replace extra things\n",
    "    \n",
    "    return string"
   ]
  },
  {
   "cell_type": "code",
   "execution_count": 7,
   "id": "49b9b215",
   "metadata": {},
   "outputs": [
    {
     "data": {
      "text/plain": [
       "\"paul erdos and george polya were influential hungarian mathematicians who contributed a lot to the field erdos's name contains the hungarian letter 'o' 'o' with double acute accent but is often incorrectly written as erdos or erdos either by mistake or out of typographical necessity\""
      ]
     },
     "execution_count": 7,
     "metadata": {},
     "output_type": "execute_result"
    }
   ],
   "source": [
    "article = basic_clean(article)\n",
    "article"
   ]
  },
  {
   "cell_type": "markdown",
   "id": "5aae2529",
   "metadata": {},
   "source": [
    "### Define a function named tokenize. It should take in a string and tokenize all the words in the string."
   ]
  },
  {
   "cell_type": "code",
   "execution_count": 8,
   "id": "77532163",
   "metadata": {},
   "outputs": [],
   "source": [
    "def tokenize(string):\n",
    "    \n",
    "    tokenize = nltk.tokenize.ToktokTokenizer() #creating the tokenize\n",
    "    string = tokenize.tokenize(string, return_str=True) #using the tokenize\n",
    "    \n",
    "    return string"
   ]
  },
  {
   "cell_type": "code",
   "execution_count": 11,
   "id": "7dd2283b",
   "metadata": {},
   "outputs": [
    {
     "data": {
      "text/plain": [
       "\"paul erdos and george polya were influential hungarian mathematicians who contributed a lot to the field erdos ' s name contains the hungarian letter ' o ' ' o ' with double acute accent but is often incorrectly written as erdos or erdos either by mistake or out of typographical necessity\""
      ]
     },
     "execution_count": 11,
     "metadata": {},
     "output_type": "execute_result"
    }
   ],
   "source": [
    "article = tokenize(article)\n",
    "article"
   ]
  },
  {
   "cell_type": "markdown",
   "id": "6aa0bc33",
   "metadata": {},
   "source": [
    "### Define a function named stem. It should accept some text and return the text after applying stemming to all the words."
   ]
  },
  {
   "cell_type": "code",
   "execution_count": 12,
   "id": "4bfb0f8a",
   "metadata": {},
   "outputs": [],
   "source": [
    "def stem(string):\n",
    "    \n",
    "    ps = nltk.porter.PorterStemmer() #creating my stemmer\n",
    "    stems = [ps.stem(word) for word in string.split()] #splitting into each word and applying the stemmer\n",
    "    string = ' '.join(stems) #joining all into one string\n",
    "    \n",
    "    return string"
   ]
  },
  {
   "cell_type": "code",
   "execution_count": 13,
   "id": "454cb0f0",
   "metadata": {},
   "outputs": [
    {
     "data": {
      "text/plain": [
       "\"paul erdo and georg polya were influenti hungarian mathematician who contribut a lot to the field erdo ' s name contain the hungarian letter ' o ' ' o ' with doubl acut accent but is often incorrectli written as erdo or erdo either by mistak or out of typograph necess\""
      ]
     },
     "execution_count": 13,
     "metadata": {},
     "output_type": "execute_result"
    }
   ],
   "source": [
    "stem(article)"
   ]
  },
  {
   "cell_type": "markdown",
   "id": "b971ce27",
   "metadata": {},
   "source": [
    "### Define a function named lemmatize. It should accept some text and return the text after applying lemmatization to each word."
   ]
  },
  {
   "cell_type": "code",
   "execution_count": 14,
   "id": "5c3099f7",
   "metadata": {},
   "outputs": [],
   "source": [
    "def lemmatize(string):\n",
    "    \n",
    "    wnl = nltk.stem.WordNetLemmatizer() #creating my lemmatizer\n",
    "    lemmas = [wnl.lemmatize(word) for word in string.split()] #splitting my string into words and applying the lemma\n",
    "    string = ' '.join(lemmas) #joining back into one string\n",
    "\n",
    "    return string"
   ]
  },
  {
   "cell_type": "code",
   "execution_count": 15,
   "id": "a5f67bf3",
   "metadata": {},
   "outputs": [
    {
     "data": {
      "text/plain": [
       "\"paul erdos and george polya were influential hungarian mathematician who contributed a lot to the field erdos ' s name contains the hungarian letter ' o ' ' o ' with double acute accent but is often incorrectly written a erdos or erdos either by mistake or out of typographical necessity\""
      ]
     },
     "execution_count": 15,
     "metadata": {},
     "output_type": "execute_result"
    }
   ],
   "source": [
    "lemmatize(article)"
   ]
  },
  {
   "cell_type": "markdown",
   "id": "5e5524ed",
   "metadata": {},
   "source": [
    "### Define a function named remove_stopwords. It should accept some text and return the text after removing all the stopwords. This function should define two optional parameters, extra_words and exclude_words. These parameters should define any additional stop words to include, and any words that we don't want to remove."
   ]
  },
  {
   "cell_type": "code",
   "execution_count": 29,
   "id": "74603d90",
   "metadata": {},
   "outputs": [],
   "source": [
    "list1 = [1,2,3,4,5]\n",
    "list2 = [5,9,10]"
   ]
  },
  {
   "cell_type": "code",
   "execution_count": 30,
   "id": "7596e091",
   "metadata": {},
   "outputs": [
    {
     "data": {
      "text/plain": [
       "{1, 2, 3, 4}"
      ]
     },
     "execution_count": 30,
     "metadata": {},
     "output_type": "execute_result"
    }
   ],
   "source": [
    "set(list1) - set(list2)"
   ]
  },
  {
   "cell_type": "code",
   "execution_count": 31,
   "id": "cbf68460",
   "metadata": {},
   "outputs": [
    {
     "data": {
      "text/plain": [
       "{1, 2, 3, 4, 5, 9, 10}"
      ]
     },
     "execution_count": 31,
     "metadata": {},
     "output_type": "execute_result"
    }
   ],
   "source": [
    "set(list1).union(list2)"
   ]
  },
  {
   "cell_type": "code",
   "execution_count": 60,
   "id": "5b619aae",
   "metadata": {},
   "outputs": [],
   "source": [
    "def remove_stopwords(string, extra_words=[], exclude_words=[]):\n",
    "    \n",
    "    stopwords_ls = stopwords.words('english') #defining my stopwords\n",
    "    \n",
    "    stopwords_ls = set(stopwords_ls) - set(exclude_words) #removing any stopwords in my exclude list\n",
    "    stopwords_ls = stopwords_ls.union(set(extra_words)) #adding any stopwards from my extra list\n",
    "    \n",
    "    words = string.split() #splitting up my string\n",
    "    filtered_words = [word for word in words if word not in stopwords_ls] #use listcomp to remove words in stopwords_ls\n",
    "    string = ' '.join(filtered_words) #joining back to a string\n",
    "    \n",
    "    return string"
   ]
  },
  {
   "cell_type": "markdown",
   "id": "2a8f2580",
   "metadata": {},
   "source": [
    "### Use your data from the acquire to produce a dataframe of the news articles. Name the dataframe news_df."
   ]
  },
  {
   "cell_type": "code",
   "execution_count": 34,
   "id": "683a5200",
   "metadata": {},
   "outputs": [
    {
     "name": "stdout",
     "output_type": "stream",
     "text": [
      "pulling articles from https://www.inshorts.com/en/read/business\n",
      "pulling articles from https://www.inshorts.com/en/read/sports\n",
      "pulling articles from https://www.inshorts.com/en/read/technology\n",
      "pulling articles from https://www.inshorts.com/en/read/entertainment\n"
     ]
    }
   ],
   "source": [
    "articles = acquire.get_news_articles()"
   ]
  },
  {
   "cell_type": "code",
   "execution_count": 49,
   "id": "b8784947",
   "metadata": {},
   "outputs": [
    {
     "data": {
      "text/html": [
       "<div>\n",
       "<style scoped>\n",
       "    .dataframe tbody tr th:only-of-type {\n",
       "        vertical-align: middle;\n",
       "    }\n",
       "\n",
       "    .dataframe tbody tr th {\n",
       "        vertical-align: top;\n",
       "    }\n",
       "\n",
       "    .dataframe thead th {\n",
       "        text-align: right;\n",
       "    }\n",
       "</style>\n",
       "<table border=\"1\" class=\"dataframe\">\n",
       "  <thead>\n",
       "    <tr style=\"text-align: right;\">\n",
       "      <th></th>\n",
       "      <th>title</th>\n",
       "      <th>content</th>\n",
       "      <th>category</th>\n",
       "    </tr>\n",
       "  </thead>\n",
       "  <tbody>\n",
       "    <tr>\n",
       "      <th>0</th>\n",
       "      <td>Sensex, Nifty end at fresh closing highs</td>\n",
       "      <td>Benchmark indices Sensex and Nifty ended at re...</td>\n",
       "      <td>business</td>\n",
       "    </tr>\n",
       "    <tr>\n",
       "      <th>1</th>\n",
       "      <td>Amazon tricked millions of customers into enro...</td>\n",
       "      <td>US Federal Trade Commission (FTC) has sued Ama...</td>\n",
       "      <td>business</td>\n",
       "    </tr>\n",
       "    <tr>\n",
       "      <th>2</th>\n",
       "      <td>TIME releases list of the world's 100 most inf...</td>\n",
       "      <td>TIME magazine has released its annual list of ...</td>\n",
       "      <td>business</td>\n",
       "    </tr>\n",
       "    <tr>\n",
       "      <th>3</th>\n",
       "      <td>Which are the world's top 10 airlines accordin...</td>\n",
       "      <td>Singapore Airlines is the world's best airline...</td>\n",
       "      <td>business</td>\n",
       "    </tr>\n",
       "    <tr>\n",
       "      <th>4</th>\n",
       "      <td>Loves India, is a fan of PM: Paytm Founder on ...</td>\n",
       "      <td>Paytm Founder Vijay Shekhar Sharma shared a vi...</td>\n",
       "      <td>business</td>\n",
       "    </tr>\n",
       "    <tr>\n",
       "      <th>...</th>\n",
       "      <td>...</td>\n",
       "      <td>...</td>\n",
       "      <td>...</td>\n",
       "    </tr>\n",
       "    <tr>\n",
       "      <th>95</th>\n",
       "      <td>Aamir remembered my 'Laal...' audition, I was ...</td>\n",
       "      <td>Actress Sonam Bajwa recalled that when she had...</td>\n",
       "      <td>entertainment</td>\n",
       "    </tr>\n",
       "    <tr>\n",
       "      <th>96</th>\n",
       "      <td>When Prateik smiles, he looks exactly like Smi...</td>\n",
       "      <td>Actress Shabana Azmi said it was \"deeply emoti...</td>\n",
       "      <td>entertainment</td>\n",
       "    </tr>\n",
       "    <tr>\n",
       "      <th>97</th>\n",
       "      <td>Thought kids at school would laugh at me, said...</td>\n",
       "      <td>Jugal Hansraj said that he had initially rejec...</td>\n",
       "      <td>entertainment</td>\n",
       "    </tr>\n",
       "    <tr>\n",
       "      <th>98</th>\n",
       "      <td>Parents said 'Even cats, dogs are on TV, when ...</td>\n",
       "      <td>Nawazuddin Siddiqui, while talking about his r...</td>\n",
       "      <td>entertainment</td>\n",
       "    </tr>\n",
       "    <tr>\n",
       "      <th>99</th>\n",
       "      <td>Came to Mumbai with ₹100, got fired from Namak...</td>\n",
       "      <td>Veteran actor Raj Babbar recalled that he came...</td>\n",
       "      <td>entertainment</td>\n",
       "    </tr>\n",
       "  </tbody>\n",
       "</table>\n",
       "<p>100 rows × 3 columns</p>\n",
       "</div>"
      ],
      "text/plain": [
       "                                                title  \\\n",
       "0            Sensex, Nifty end at fresh closing highs   \n",
       "1   Amazon tricked millions of customers into enro...   \n",
       "2   TIME releases list of the world's 100 most inf...   \n",
       "3   Which are the world's top 10 airlines accordin...   \n",
       "4   Loves India, is a fan of PM: Paytm Founder on ...   \n",
       "..                                                ...   \n",
       "95  Aamir remembered my 'Laal...' audition, I was ...   \n",
       "96  When Prateik smiles, he looks exactly like Smi...   \n",
       "97  Thought kids at school would laugh at me, said...   \n",
       "98  Parents said 'Even cats, dogs are on TV, when ...   \n",
       "99  Came to Mumbai with ₹100, got fired from Namak...   \n",
       "\n",
       "                                              content       category  \n",
       "0   Benchmark indices Sensex and Nifty ended at re...       business  \n",
       "1   US Federal Trade Commission (FTC) has sued Ama...       business  \n",
       "2   TIME magazine has released its annual list of ...       business  \n",
       "3   Singapore Airlines is the world's best airline...       business  \n",
       "4   Paytm Founder Vijay Shekhar Sharma shared a vi...       business  \n",
       "..                                                ...            ...  \n",
       "95  Actress Sonam Bajwa recalled that when she had...  entertainment  \n",
       "96  Actress Shabana Azmi said it was \"deeply emoti...  entertainment  \n",
       "97  Jugal Hansraj said that he had initially rejec...  entertainment  \n",
       "98  Nawazuddin Siddiqui, while talking about his r...  entertainment  \n",
       "99  Veteran actor Raj Babbar recalled that he came...  entertainment  \n",
       "\n",
       "[100 rows x 3 columns]"
      ]
     },
     "execution_count": 49,
     "metadata": {},
     "output_type": "execute_result"
    }
   ],
   "source": [
    "news_df = pd.DataFrame(articles)\n",
    "news_df"
   ]
  },
  {
   "cell_type": "markdown",
   "id": "bcbd54f7",
   "metadata": {},
   "source": [
    "### Make another dataframe for the Codeup blog posts. Name the dataframe codeup_df."
   ]
  },
  {
   "cell_type": "code",
   "execution_count": 40,
   "id": "f78e892e",
   "metadata": {},
   "outputs": [
    {
     "name": "stdout",
     "output_type": "stream",
     "text": [
      "pulling content from https://codeup.com/data-science/math-in-data-science/\n",
      "pulling content from https://codeup.com/codeup-news/dei-report/\n",
      "pulling content from https://codeup.com/tips-for-prospective-students/tips-for-women/\n",
      "pulling content from https://codeup.com/data-science/jobs-after-a-coding-bootcamp-part-1-data-science/\n",
      "pulling content from https://codeup.com/data-science/why-you-should-become-a-data-scientist/\n",
      "pulling content from https://codeup.com/featured/financing-career-transition/\n"
     ]
    }
   ],
   "source": [
    "blogs = acquire.get_blob_articles()"
   ]
  },
  {
   "cell_type": "code",
   "execution_count": 43,
   "id": "5f44c604",
   "metadata": {},
   "outputs": [
    {
     "data": {
      "text/html": [
       "<div>\n",
       "<style scoped>\n",
       "    .dataframe tbody tr th:only-of-type {\n",
       "        vertical-align: middle;\n",
       "    }\n",
       "\n",
       "    .dataframe tbody tr th {\n",
       "        vertical-align: top;\n",
       "    }\n",
       "\n",
       "    .dataframe thead th {\n",
       "        text-align: right;\n",
       "    }\n",
       "</style>\n",
       "<table border=\"1\" class=\"dataframe\">\n",
       "  <thead>\n",
       "    <tr style=\"text-align: right;\">\n",
       "      <th></th>\n",
       "      <th>title</th>\n",
       "      <th>date_published</th>\n",
       "      <th>content</th>\n",
       "    </tr>\n",
       "  </thead>\n",
       "  <tbody>\n",
       "    <tr>\n",
       "      <th>0</th>\n",
       "      <td>What are the Math and Stats Principles You Nee...</td>\n",
       "      <td>Oct 21, 2020</td>\n",
       "      <td>Coming into our Data Science program, you will...</td>\n",
       "    </tr>\n",
       "    <tr>\n",
       "      <th>1</th>\n",
       "      <td>Diversity Equity and Inclusion Report</td>\n",
       "      <td>Oct 7, 2022</td>\n",
       "      <td>Codeup is excited to launch our first Diversit...</td>\n",
       "    </tr>\n",
       "    <tr>\n",
       "      <th>2</th>\n",
       "      <td>Tips for Women Beginning a Career in Tech</td>\n",
       "      <td>Sep 23, 2022</td>\n",
       "      <td>Codeup strongly values diversity, and inclusio...</td>\n",
       "    </tr>\n",
       "    <tr>\n",
       "      <th>3</th>\n",
       "      <td>What Jobs Can You Get After a Coding Bootcamp?...</td>\n",
       "      <td>Jul 7, 2022</td>\n",
       "      <td>If you are interested in embarking on a career...</td>\n",
       "    </tr>\n",
       "    <tr>\n",
       "      <th>4</th>\n",
       "      <td>Why You Should Become a Data Scientist</td>\n",
       "      <td>Mar 11, 2021</td>\n",
       "      <td>What do you look for in a career? Chances are,...</td>\n",
       "    </tr>\n",
       "    <tr>\n",
       "      <th>5</th>\n",
       "      <td>How Can I Finance My Career Transition?</td>\n",
       "      <td>Sep 29, 2022</td>\n",
       "      <td>Deciding to transition into a tech career is a...</td>\n",
       "    </tr>\n",
       "  </tbody>\n",
       "</table>\n",
       "</div>"
      ],
      "text/plain": [
       "                                               title date_published  \\\n",
       "0  What are the Math and Stats Principles You Nee...   Oct 21, 2020   \n",
       "1              Diversity Equity and Inclusion Report    Oct 7, 2022   \n",
       "2          Tips for Women Beginning a Career in Tech   Sep 23, 2022   \n",
       "3  What Jobs Can You Get After a Coding Bootcamp?...    Jul 7, 2022   \n",
       "4             Why You Should Become a Data Scientist   Mar 11, 2021   \n",
       "5            How Can I Finance My Career Transition?   Sep 29, 2022   \n",
       "\n",
       "                                             content  \n",
       "0  Coming into our Data Science program, you will...  \n",
       "1  Codeup is excited to launch our first Diversit...  \n",
       "2  Codeup strongly values diversity, and inclusio...  \n",
       "3  If you are interested in embarking on a career...  \n",
       "4  What do you look for in a career? Chances are,...  \n",
       "5  Deciding to transition into a tech career is a...  "
      ]
     },
     "execution_count": 43,
     "metadata": {},
     "output_type": "execute_result"
    }
   ],
   "source": [
    "codeup_df = pd.DataFrame(blogs)\n",
    "codeup_df"
   ]
  },
  {
   "cell_type": "markdown",
   "id": "a200ad75",
   "metadata": {},
   "source": [
    "### For each dataframe, produce the following columns:\n",
    "\n",
    "- title to hold the title\n",
    "- original to hold the original article/post content\n",
    "- clean to hold the normalized and tokenized original with the stopwords removed.\n",
    "- stemmed to hold the stemmed version of the cleaned data.\n",
    "- lemmatized to hold the lemmatized version of the cleaned data."
   ]
  },
  {
   "cell_type": "code",
   "execution_count": 50,
   "id": "4c682e21",
   "metadata": {},
   "outputs": [
    {
     "data": {
      "text/html": [
       "<div>\n",
       "<style scoped>\n",
       "    .dataframe tbody tr th:only-of-type {\n",
       "        vertical-align: middle;\n",
       "    }\n",
       "\n",
       "    .dataframe tbody tr th {\n",
       "        vertical-align: top;\n",
       "    }\n",
       "\n",
       "    .dataframe thead th {\n",
       "        text-align: right;\n",
       "    }\n",
       "</style>\n",
       "<table border=\"1\" class=\"dataframe\">\n",
       "  <thead>\n",
       "    <tr style=\"text-align: right;\">\n",
       "      <th></th>\n",
       "      <th>title</th>\n",
       "      <th>original</th>\n",
       "    </tr>\n",
       "  </thead>\n",
       "  <tbody>\n",
       "    <tr>\n",
       "      <th>0</th>\n",
       "      <td>Sensex, Nifty end at fresh closing highs</td>\n",
       "      <td>Benchmark indices Sensex and Nifty ended at re...</td>\n",
       "    </tr>\n",
       "    <tr>\n",
       "      <th>1</th>\n",
       "      <td>Amazon tricked millions of customers into enro...</td>\n",
       "      <td>US Federal Trade Commission (FTC) has sued Ama...</td>\n",
       "    </tr>\n",
       "    <tr>\n",
       "      <th>2</th>\n",
       "      <td>TIME releases list of the world's 100 most inf...</td>\n",
       "      <td>TIME magazine has released its annual list of ...</td>\n",
       "    </tr>\n",
       "    <tr>\n",
       "      <th>3</th>\n",
       "      <td>Which are the world's top 10 airlines accordin...</td>\n",
       "      <td>Singapore Airlines is the world's best airline...</td>\n",
       "    </tr>\n",
       "    <tr>\n",
       "      <th>4</th>\n",
       "      <td>Loves India, is a fan of PM: Paytm Founder on ...</td>\n",
       "      <td>Paytm Founder Vijay Shekhar Sharma shared a vi...</td>\n",
       "    </tr>\n",
       "  </tbody>\n",
       "</table>\n",
       "</div>"
      ],
      "text/plain": [
       "                                               title  \\\n",
       "0           Sensex, Nifty end at fresh closing highs   \n",
       "1  Amazon tricked millions of customers into enro...   \n",
       "2  TIME releases list of the world's 100 most inf...   \n",
       "3  Which are the world's top 10 airlines accordin...   \n",
       "4  Loves India, is a fan of PM: Paytm Founder on ...   \n",
       "\n",
       "                                            original  \n",
       "0  Benchmark indices Sensex and Nifty ended at re...  \n",
       "1  US Federal Trade Commission (FTC) has sued Ama...  \n",
       "2  TIME magazine has released its annual list of ...  \n",
       "3  Singapore Airlines is the world's best airline...  \n",
       "4  Paytm Founder Vijay Shekhar Sharma shared a vi...  "
      ]
     },
     "execution_count": 50,
     "metadata": {},
     "output_type": "execute_result"
    }
   ],
   "source": [
    "news_df = news_df.rename(columns={'content':'original'}).drop(columns='category')\n",
    "news_df.head()"
   ]
  },
  {
   "cell_type": "code",
   "execution_count": 67,
   "id": "d338e1c0",
   "metadata": {},
   "outputs": [],
   "source": [
    "news_df['clean'] = news_df.original.apply(basic_clean).apply(tokenize).apply(remove_stopwords)"
   ]
  },
  {
   "cell_type": "code",
   "execution_count": 68,
   "id": "ca909b90",
   "metadata": {},
   "outputs": [],
   "source": [
    "news_df['stem'] = news_df.clean.apply(stem)\n",
    "news_df['lemma'] = news_df.clean.apply(lemmatize)"
   ]
  },
  {
   "cell_type": "code",
   "execution_count": 69,
   "id": "56feebc3",
   "metadata": {},
   "outputs": [
    {
     "data": {
      "text/html": [
       "<div>\n",
       "<style scoped>\n",
       "    .dataframe tbody tr th:only-of-type {\n",
       "        vertical-align: middle;\n",
       "    }\n",
       "\n",
       "    .dataframe tbody tr th {\n",
       "        vertical-align: top;\n",
       "    }\n",
       "\n",
       "    .dataframe thead th {\n",
       "        text-align: right;\n",
       "    }\n",
       "</style>\n",
       "<table border=\"1\" class=\"dataframe\">\n",
       "  <thead>\n",
       "    <tr style=\"text-align: right;\">\n",
       "      <th></th>\n",
       "      <th>title</th>\n",
       "      <th>original</th>\n",
       "      <th>clean</th>\n",
       "      <th>stem</th>\n",
       "      <th>lemma</th>\n",
       "    </tr>\n",
       "  </thead>\n",
       "  <tbody>\n",
       "    <tr>\n",
       "      <th>0</th>\n",
       "      <td>Sensex, Nifty end at fresh closing highs</td>\n",
       "      <td>Benchmark indices Sensex and Nifty ended at re...</td>\n",
       "      <td>benchmark indices sensex nifty ended record cl...</td>\n",
       "      <td>benchmark indic sensex nifti end record close ...</td>\n",
       "      <td>benchmark index sensex nifty ended record clos...</td>\n",
       "    </tr>\n",
       "    <tr>\n",
       "      <th>1</th>\n",
       "      <td>Amazon tricked millions of customers into enro...</td>\n",
       "      <td>US Federal Trade Commission (FTC) has sued Ama...</td>\n",
       "      <td>us federal trade commission ftc sued amazon ac...</td>\n",
       "      <td>us feder trade commiss ftc su amazon accus tri...</td>\n",
       "      <td>u federal trade commission ftc sued amazon acc...</td>\n",
       "    </tr>\n",
       "    <tr>\n",
       "      <th>2</th>\n",
       "      <td>TIME releases list of the world's 100 most inf...</td>\n",
       "      <td>TIME magazine has released its annual list of ...</td>\n",
       "      <td>time magazine released annual list world ' 100...</td>\n",
       "      <td>time magazin releas annual list world ' 100 in...</td>\n",
       "      <td>time magazine released annual list world ' 100...</td>\n",
       "    </tr>\n",
       "    <tr>\n",
       "      <th>3</th>\n",
       "      <td>Which are the world's top 10 airlines accordin...</td>\n",
       "      <td>Singapore Airlines is the world's best airline...</td>\n",
       "      <td>singapore airlines world ' best airline accord...</td>\n",
       "      <td>singapor airlin world ' best airlin accord sky...</td>\n",
       "      <td>singapore airline world ' best airline accordi...</td>\n",
       "    </tr>\n",
       "    <tr>\n",
       "      <th>4</th>\n",
       "      <td>Loves India, is a fan of PM: Paytm Founder on ...</td>\n",
       "      <td>Paytm Founder Vijay Shekhar Sharma shared a vi...</td>\n",
       "      <td>paytm founder vijay shekhar sharma shared vide...</td>\n",
       "      <td>paytm founder vijay shekhar sharma share video...</td>\n",
       "      <td>paytm founder vijay shekhar sharma shared vide...</td>\n",
       "    </tr>\n",
       "    <tr>\n",
       "      <th>...</th>\n",
       "      <td>...</td>\n",
       "      <td>...</td>\n",
       "      <td>...</td>\n",
       "      <td>...</td>\n",
       "      <td>...</td>\n",
       "    </tr>\n",
       "    <tr>\n",
       "      <th>95</th>\n",
       "      <td>Aamir remembered my 'Laal...' audition, I was ...</td>\n",
       "      <td>Actress Sonam Bajwa recalled that when she had...</td>\n",
       "      <td>actress sonam bajwa recalled met aamir khan tr...</td>\n",
       "      <td>actress sonam bajwa recal met aamir khan trail...</td>\n",
       "      <td>actress sonam bajwa recalled met aamir khan tr...</td>\n",
       "    </tr>\n",
       "    <tr>\n",
       "      <th>96</th>\n",
       "      <td>When Prateik smiles, he looks exactly like Smi...</td>\n",
       "      <td>Actress Shabana Azmi said it was \"deeply emoti...</td>\n",
       "      <td>actress shabana azmi said deeply emotional sho...</td>\n",
       "      <td>actress shabana azmi said deepli emot shoot sm...</td>\n",
       "      <td>actress shabana azmi said deeply emotional sho...</td>\n",
       "    </tr>\n",
       "    <tr>\n",
       "      <th>97</th>\n",
       "      <td>Thought kids at school would laugh at me, said...</td>\n",
       "      <td>Jugal Hansraj said that he had initially rejec...</td>\n",
       "      <td>jugal hansraj said initially rejected shekhar ...</td>\n",
       "      <td>jugal hansraj said initi reject shekhar kapur ...</td>\n",
       "      <td>jugal hansraj said initially rejected shekhar ...</td>\n",
       "    </tr>\n",
       "    <tr>\n",
       "      <th>98</th>\n",
       "      <td>Parents said 'Even cats, dogs are on TV, when ...</td>\n",
       "      <td>Nawazuddin Siddiqui, while talking about his r...</td>\n",
       "      <td>nawazuddin siddiqui talking role junior artist...</td>\n",
       "      <td>nawazuddin siddiqui talk role junior artist ' ...</td>\n",
       "      <td>nawazuddin siddiqui talking role junior artist...</td>\n",
       "    </tr>\n",
       "    <tr>\n",
       "      <th>99</th>\n",
       "      <td>Came to Mumbai with ₹100, got fired from Namak...</td>\n",
       "      <td>Veteran actor Raj Babbar recalled that he came...</td>\n",
       "      <td>veteran actor raj babbar recalled came mumbai ...</td>\n",
       "      <td>veteran actor raj babbar recal came mumbai 100...</td>\n",
       "      <td>veteran actor raj babbar recalled came mumbai ...</td>\n",
       "    </tr>\n",
       "  </tbody>\n",
       "</table>\n",
       "<p>100 rows × 5 columns</p>\n",
       "</div>"
      ],
      "text/plain": [
       "                                                title  \\\n",
       "0            Sensex, Nifty end at fresh closing highs   \n",
       "1   Amazon tricked millions of customers into enro...   \n",
       "2   TIME releases list of the world's 100 most inf...   \n",
       "3   Which are the world's top 10 airlines accordin...   \n",
       "4   Loves India, is a fan of PM: Paytm Founder on ...   \n",
       "..                                                ...   \n",
       "95  Aamir remembered my 'Laal...' audition, I was ...   \n",
       "96  When Prateik smiles, he looks exactly like Smi...   \n",
       "97  Thought kids at school would laugh at me, said...   \n",
       "98  Parents said 'Even cats, dogs are on TV, when ...   \n",
       "99  Came to Mumbai with ₹100, got fired from Namak...   \n",
       "\n",
       "                                             original  \\\n",
       "0   Benchmark indices Sensex and Nifty ended at re...   \n",
       "1   US Federal Trade Commission (FTC) has sued Ama...   \n",
       "2   TIME magazine has released its annual list of ...   \n",
       "3   Singapore Airlines is the world's best airline...   \n",
       "4   Paytm Founder Vijay Shekhar Sharma shared a vi...   \n",
       "..                                                ...   \n",
       "95  Actress Sonam Bajwa recalled that when she had...   \n",
       "96  Actress Shabana Azmi said it was \"deeply emoti...   \n",
       "97  Jugal Hansraj said that he had initially rejec...   \n",
       "98  Nawazuddin Siddiqui, while talking about his r...   \n",
       "99  Veteran actor Raj Babbar recalled that he came...   \n",
       "\n",
       "                                                clean  \\\n",
       "0   benchmark indices sensex nifty ended record cl...   \n",
       "1   us federal trade commission ftc sued amazon ac...   \n",
       "2   time magazine released annual list world ' 100...   \n",
       "3   singapore airlines world ' best airline accord...   \n",
       "4   paytm founder vijay shekhar sharma shared vide...   \n",
       "..                                                ...   \n",
       "95  actress sonam bajwa recalled met aamir khan tr...   \n",
       "96  actress shabana azmi said deeply emotional sho...   \n",
       "97  jugal hansraj said initially rejected shekhar ...   \n",
       "98  nawazuddin siddiqui talking role junior artist...   \n",
       "99  veteran actor raj babbar recalled came mumbai ...   \n",
       "\n",
       "                                                 stem  \\\n",
       "0   benchmark indic sensex nifti end record close ...   \n",
       "1   us feder trade commiss ftc su amazon accus tri...   \n",
       "2   time magazin releas annual list world ' 100 in...   \n",
       "3   singapor airlin world ' best airlin accord sky...   \n",
       "4   paytm founder vijay shekhar sharma share video...   \n",
       "..                                                ...   \n",
       "95  actress sonam bajwa recal met aamir khan trail...   \n",
       "96  actress shabana azmi said deepli emot shoot sm...   \n",
       "97  jugal hansraj said initi reject shekhar kapur ...   \n",
       "98  nawazuddin siddiqui talk role junior artist ' ...   \n",
       "99  veteran actor raj babbar recal came mumbai 100...   \n",
       "\n",
       "                                                lemma  \n",
       "0   benchmark index sensex nifty ended record clos...  \n",
       "1   u federal trade commission ftc sued amazon acc...  \n",
       "2   time magazine released annual list world ' 100...  \n",
       "3   singapore airline world ' best airline accordi...  \n",
       "4   paytm founder vijay shekhar sharma shared vide...  \n",
       "..                                                ...  \n",
       "95  actress sonam bajwa recalled met aamir khan tr...  \n",
       "96  actress shabana azmi said deeply emotional sho...  \n",
       "97  jugal hansraj said initially rejected shekhar ...  \n",
       "98  nawazuddin siddiqui talking role junior artist...  \n",
       "99  veteran actor raj babbar recalled came mumbai ...  \n",
       "\n",
       "[100 rows x 5 columns]"
      ]
     },
     "execution_count": 69,
     "metadata": {},
     "output_type": "execute_result"
    }
   ],
   "source": [
    "news_df"
   ]
  },
  {
   "cell_type": "code",
   "execution_count": 70,
   "id": "6caed3ef",
   "metadata": {},
   "outputs": [],
   "source": [
    "def clean_df(df, extra_words=[], exclude_words=[]):\n",
    "    \"\"\"\n",
    "    Send in df with columns: title and original,\n",
    "    returns df with original, clean, stemmed, and lemmatized data\n",
    "    \"\"\"\n",
    "    df['clean'] = df.original\\\n",
    "                        .apply(basic_clean)\\\n",
    "                        .apply(tokenize)\\\n",
    "                        .apply(remove_stopwords, \n",
    "                                    extra_words=extra_words,\n",
    "                                    exclude_words=exclude_words)\n",
    "    df['stemmed'] = df.clean.apply(stem)\n",
    "    df['lemmatized'] = df.clean.apply(lemmatize)\n",
    "    \n",
    "    return df"
   ]
  },
  {
   "cell_type": "code",
   "execution_count": 77,
   "id": "10de7b80",
   "metadata": {},
   "outputs": [
    {
     "data": {
      "text/html": [
       "<div>\n",
       "<style scoped>\n",
       "    .dataframe tbody tr th:only-of-type {\n",
       "        vertical-align: middle;\n",
       "    }\n",
       "\n",
       "    .dataframe tbody tr th {\n",
       "        vertical-align: top;\n",
       "    }\n",
       "\n",
       "    .dataframe thead th {\n",
       "        text-align: right;\n",
       "    }\n",
       "</style>\n",
       "<table border=\"1\" class=\"dataframe\">\n",
       "  <thead>\n",
       "    <tr style=\"text-align: right;\">\n",
       "      <th></th>\n",
       "      <th>title</th>\n",
       "      <th>date_published</th>\n",
       "      <th>content</th>\n",
       "    </tr>\n",
       "  </thead>\n",
       "  <tbody>\n",
       "    <tr>\n",
       "      <th>0</th>\n",
       "      <td>What are the Math and Stats Principles You Nee...</td>\n",
       "      <td>Oct 21, 2020</td>\n",
       "      <td>Coming into our Data Science program, you will...</td>\n",
       "    </tr>\n",
       "    <tr>\n",
       "      <th>1</th>\n",
       "      <td>Diversity Equity and Inclusion Report</td>\n",
       "      <td>Oct 7, 2022</td>\n",
       "      <td>Codeup is excited to launch our first Diversit...</td>\n",
       "    </tr>\n",
       "    <tr>\n",
       "      <th>2</th>\n",
       "      <td>Tips for Women Beginning a Career in Tech</td>\n",
       "      <td>Sep 23, 2022</td>\n",
       "      <td>Codeup strongly values diversity, and inclusio...</td>\n",
       "    </tr>\n",
       "    <tr>\n",
       "      <th>3</th>\n",
       "      <td>What Jobs Can You Get After a Coding Bootcamp?...</td>\n",
       "      <td>Jul 7, 2022</td>\n",
       "      <td>If you are interested in embarking on a career...</td>\n",
       "    </tr>\n",
       "    <tr>\n",
       "      <th>4</th>\n",
       "      <td>Why You Should Become a Data Scientist</td>\n",
       "      <td>Mar 11, 2021</td>\n",
       "      <td>What do you look for in a career? Chances are,...</td>\n",
       "    </tr>\n",
       "    <tr>\n",
       "      <th>5</th>\n",
       "      <td>How Can I Finance My Career Transition?</td>\n",
       "      <td>Sep 29, 2022</td>\n",
       "      <td>Deciding to transition into a tech career is a...</td>\n",
       "    </tr>\n",
       "  </tbody>\n",
       "</table>\n",
       "</div>"
      ],
      "text/plain": [
       "                                               title date_published  \\\n",
       "0  What are the Math and Stats Principles You Nee...   Oct 21, 2020   \n",
       "1              Diversity Equity and Inclusion Report    Oct 7, 2022   \n",
       "2          Tips for Women Beginning a Career in Tech   Sep 23, 2022   \n",
       "3  What Jobs Can You Get After a Coding Bootcamp?...    Jul 7, 2022   \n",
       "4             Why You Should Become a Data Scientist   Mar 11, 2021   \n",
       "5            How Can I Finance My Career Transition?   Sep 29, 2022   \n",
       "\n",
       "                                             content  \n",
       "0  Coming into our Data Science program, you will...  \n",
       "1  Codeup is excited to launch our first Diversit...  \n",
       "2  Codeup strongly values diversity, and inclusio...  \n",
       "3  If you are interested in embarking on a career...  \n",
       "4  What do you look for in a career? Chances are,...  \n",
       "5  Deciding to transition into a tech career is a...  "
      ]
     },
     "execution_count": 77,
     "metadata": {},
     "output_type": "execute_result"
    }
   ],
   "source": [
    "codeup_df = pd.DataFrame(blogs)\n",
    "codeup_df"
   ]
  },
  {
   "cell_type": "code",
   "execution_count": 78,
   "id": "22bc9f17",
   "metadata": {},
   "outputs": [],
   "source": [
    "codeup_df = codeup_df.rename(columns={'content':'original'}).drop(columns='date_published')"
   ]
  },
  {
   "cell_type": "code",
   "execution_count": 79,
   "id": "df7975ce",
   "metadata": {},
   "outputs": [
    {
     "data": {
      "text/html": [
       "<div>\n",
       "<style scoped>\n",
       "    .dataframe tbody tr th:only-of-type {\n",
       "        vertical-align: middle;\n",
       "    }\n",
       "\n",
       "    .dataframe tbody tr th {\n",
       "        vertical-align: top;\n",
       "    }\n",
       "\n",
       "    .dataframe thead th {\n",
       "        text-align: right;\n",
       "    }\n",
       "</style>\n",
       "<table border=\"1\" class=\"dataframe\">\n",
       "  <thead>\n",
       "    <tr style=\"text-align: right;\">\n",
       "      <th></th>\n",
       "      <th>title</th>\n",
       "      <th>original</th>\n",
       "    </tr>\n",
       "  </thead>\n",
       "  <tbody>\n",
       "    <tr>\n",
       "      <th>0</th>\n",
       "      <td>What are the Math and Stats Principles You Nee...</td>\n",
       "      <td>Coming into our Data Science program, you will...</td>\n",
       "    </tr>\n",
       "    <tr>\n",
       "      <th>1</th>\n",
       "      <td>Diversity Equity and Inclusion Report</td>\n",
       "      <td>Codeup is excited to launch our first Diversit...</td>\n",
       "    </tr>\n",
       "    <tr>\n",
       "      <th>2</th>\n",
       "      <td>Tips for Women Beginning a Career in Tech</td>\n",
       "      <td>Codeup strongly values diversity, and inclusio...</td>\n",
       "    </tr>\n",
       "    <tr>\n",
       "      <th>3</th>\n",
       "      <td>What Jobs Can You Get After a Coding Bootcamp?...</td>\n",
       "      <td>If you are interested in embarking on a career...</td>\n",
       "    </tr>\n",
       "    <tr>\n",
       "      <th>4</th>\n",
       "      <td>Why You Should Become a Data Scientist</td>\n",
       "      <td>What do you look for in a career? Chances are,...</td>\n",
       "    </tr>\n",
       "    <tr>\n",
       "      <th>5</th>\n",
       "      <td>How Can I Finance My Career Transition?</td>\n",
       "      <td>Deciding to transition into a tech career is a...</td>\n",
       "    </tr>\n",
       "  </tbody>\n",
       "</table>\n",
       "</div>"
      ],
      "text/plain": [
       "                                               title  \\\n",
       "0  What are the Math and Stats Principles You Nee...   \n",
       "1              Diversity Equity and Inclusion Report   \n",
       "2          Tips for Women Beginning a Career in Tech   \n",
       "3  What Jobs Can You Get After a Coding Bootcamp?...   \n",
       "4             Why You Should Become a Data Scientist   \n",
       "5            How Can I Finance My Career Transition?   \n",
       "\n",
       "                                            original  \n",
       "0  Coming into our Data Science program, you will...  \n",
       "1  Codeup is excited to launch our first Diversit...  \n",
       "2  Codeup strongly values diversity, and inclusio...  \n",
       "3  If you are interested in embarking on a career...  \n",
       "4  What do you look for in a career? Chances are,...  \n",
       "5  Deciding to transition into a tech career is a...  "
      ]
     },
     "execution_count": 79,
     "metadata": {},
     "output_type": "execute_result"
    }
   ],
   "source": [
    "codeup_df"
   ]
  },
  {
   "cell_type": "code",
   "execution_count": 80,
   "id": "dab69713",
   "metadata": {},
   "outputs": [
    {
     "data": {
      "text/html": [
       "<div>\n",
       "<style scoped>\n",
       "    .dataframe tbody tr th:only-of-type {\n",
       "        vertical-align: middle;\n",
       "    }\n",
       "\n",
       "    .dataframe tbody tr th {\n",
       "        vertical-align: top;\n",
       "    }\n",
       "\n",
       "    .dataframe thead th {\n",
       "        text-align: right;\n",
       "    }\n",
       "</style>\n",
       "<table border=\"1\" class=\"dataframe\">\n",
       "  <thead>\n",
       "    <tr style=\"text-align: right;\">\n",
       "      <th></th>\n",
       "      <th>title</th>\n",
       "      <th>original</th>\n",
       "      <th>clean</th>\n",
       "      <th>stemmed</th>\n",
       "      <th>lemmatized</th>\n",
       "    </tr>\n",
       "  </thead>\n",
       "  <tbody>\n",
       "    <tr>\n",
       "      <th>0</th>\n",
       "      <td>What are the Math and Stats Principles You Nee...</td>\n",
       "      <td>Coming into our Data Science program, you will...</td>\n",
       "      <td>coming data science program need know math sta...</td>\n",
       "      <td>come data scienc program need know math stat h...</td>\n",
       "      <td>coming data science program need know math sta...</td>\n",
       "    </tr>\n",
       "    <tr>\n",
       "      <th>1</th>\n",
       "      <td>Diversity Equity and Inclusion Report</td>\n",
       "      <td>Codeup is excited to launch our first Diversit...</td>\n",
       "      <td>codeup excited launch first diversity equity i...</td>\n",
       "      <td>codeup excit launch first divers equiti inclus...</td>\n",
       "      <td>codeup excited launch first diversity equity i...</td>\n",
       "    </tr>\n",
       "    <tr>\n",
       "      <th>2</th>\n",
       "      <td>Tips for Women Beginning a Career in Tech</td>\n",
       "      <td>Codeup strongly values diversity, and inclusio...</td>\n",
       "      <td>codeup strongly values diversity inclusion hon...</td>\n",
       "      <td>codeup strongli valu divers inclus honor ameri...</td>\n",
       "      <td>codeup strongly value diversity inclusion hono...</td>\n",
       "    </tr>\n",
       "    <tr>\n",
       "      <th>3</th>\n",
       "      <td>What Jobs Can You Get After a Coding Bootcamp?...</td>\n",
       "      <td>If you are interested in embarking on a career...</td>\n",
       "      <td>interested embarking career tech youre probabl...</td>\n",
       "      <td>interest embark career tech your probabl wonde...</td>\n",
       "      <td>interested embarking career tech youre probabl...</td>\n",
       "    </tr>\n",
       "    <tr>\n",
       "      <th>4</th>\n",
       "      <td>Why You Should Become a Data Scientist</td>\n",
       "      <td>What do you look for in a career? Chances are,...</td>\n",
       "      <td>look career chances youre looking way make use...</td>\n",
       "      <td>look career chanc your look way make use parti...</td>\n",
       "      <td>look career chance youre looking way make use ...</td>\n",
       "    </tr>\n",
       "    <tr>\n",
       "      <th>5</th>\n",
       "      <td>How Can I Finance My Career Transition?</td>\n",
       "      <td>Deciding to transition into a tech career is a...</td>\n",
       "      <td>deciding transition tech career big step signi...</td>\n",
       "      <td>decid transit tech career big step signific co...</td>\n",
       "      <td>deciding transition tech career big step signi...</td>\n",
       "    </tr>\n",
       "  </tbody>\n",
       "</table>\n",
       "</div>"
      ],
      "text/plain": [
       "                                               title  \\\n",
       "0  What are the Math and Stats Principles You Nee...   \n",
       "1              Diversity Equity and Inclusion Report   \n",
       "2          Tips for Women Beginning a Career in Tech   \n",
       "3  What Jobs Can You Get After a Coding Bootcamp?...   \n",
       "4             Why You Should Become a Data Scientist   \n",
       "5            How Can I Finance My Career Transition?   \n",
       "\n",
       "                                            original  \\\n",
       "0  Coming into our Data Science program, you will...   \n",
       "1  Codeup is excited to launch our first Diversit...   \n",
       "2  Codeup strongly values diversity, and inclusio...   \n",
       "3  If you are interested in embarking on a career...   \n",
       "4  What do you look for in a career? Chances are,...   \n",
       "5  Deciding to transition into a tech career is a...   \n",
       "\n",
       "                                               clean  \\\n",
       "0  coming data science program need know math sta...   \n",
       "1  codeup excited launch first diversity equity i...   \n",
       "2  codeup strongly values diversity inclusion hon...   \n",
       "3  interested embarking career tech youre probabl...   \n",
       "4  look career chances youre looking way make use...   \n",
       "5  deciding transition tech career big step signi...   \n",
       "\n",
       "                                             stemmed  \\\n",
       "0  come data scienc program need know math stat h...   \n",
       "1  codeup excit launch first divers equiti inclus...   \n",
       "2  codeup strongli valu divers inclus honor ameri...   \n",
       "3  interest embark career tech your probabl wonde...   \n",
       "4  look career chanc your look way make use parti...   \n",
       "5  decid transit tech career big step signific co...   \n",
       "\n",
       "                                          lemmatized  \n",
       "0  coming data science program need know math sta...  \n",
       "1  codeup excited launch first diversity equity i...  \n",
       "2  codeup strongly value diversity inclusion hono...  \n",
       "3  interested embarking career tech youre probabl...  \n",
       "4  look career chance youre looking way make use ...  \n",
       "5  deciding transition tech career big step signi...  "
      ]
     },
     "execution_count": 80,
     "metadata": {},
     "output_type": "execute_result"
    }
   ],
   "source": [
    "clean_df(codeup_df)"
   ]
  },
  {
   "cell_type": "markdown",
   "id": "002cdd40",
   "metadata": {},
   "source": [
    "### Ask yourself:\n",
    "\n",
    "- If your corpus is 493KB, would you prefer to use stemmed or lemmatized text?\n",
    "- If your corpus is 25MB, would you prefer to use stemmed or lemmatized text?\n",
    "- If your corpus is 200TB of text and you're charged by the megabyte for your hosted computational resources, would you prefer to use stemmed or lemmatized text?"
   ]
  },
  {
   "cell_type": "code",
   "execution_count": null,
   "id": "04328196",
   "metadata": {},
   "outputs": [],
   "source": []
  }
 ],
 "metadata": {
  "kernelspec": {
   "display_name": "Python 3 (ipykernel)",
   "language": "python",
   "name": "python3"
  },
  "language_info": {
   "codemirror_mode": {
    "name": "ipython",
    "version": 3
   },
   "file_extension": ".py",
   "mimetype": "text/x-python",
   "name": "python",
   "nbconvert_exporter": "python",
   "pygments_lexer": "ipython3",
   "version": "3.9.12"
  }
 },
 "nbformat": 4,
 "nbformat_minor": 5
}
